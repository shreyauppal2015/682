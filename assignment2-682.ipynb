{
 "cells": [
  {
   "cell_type": "markdown",
   "metadata": {
    "deletable": false,
    "editable": false,
    "nbgrader": {
     "cell_type": "markdown",
     "checksum": "48e2d5e7dca58da4c3eb8929bb227c50",
     "grade": false,
     "grade_id": "cell-f09af9a78eaa4489",
     "locked": true,
     "schema_version": 3,
     "solution": false
    }
   },
   "source": [
    "# Social Media Analytics\n",
    "## School of Information, University of Michigan\n",
    "\n",
    "## Week 2: Visualizing and Modeling Patterns in Social Media Data\n",
    " \n",
    "- Obtaining, loading, and overview of a large corpus\n",
    "- Visualizing a tweet corpus temporally\n",
    "\n",
    "## Assignment Overview\n",
    "### The objective of this assignment is to:\n",
    "\n",
    "- Process a large corpus of data from twitter\n",
    "- Visualize the corpus temporally\n",
    "\n",
    "### The total score of this assignment will be 100 points consisting of:\n",
    "\n",
    "- `create_tweet_df` function: 5 points\n",
    "- `create_tweet_count_df` function: 5 points\n",
    "- `create_favorite_avg_df` function: 5 points\n",
    "- `create_retweet_avg_df` function: 5 points\n",
    "- `create_tweet_sum_viz` function: 10 points\n",
    "- observations related to `create_tweet_sum_viz` function: 5 points\n",
    "- `create_hashtag_df` function: 10 points\n",
    "- `most_used_hashtags` function: 15 points\n",
    "- `create_hashtag_viz` function: 15 points\n",
    "- observations related to `create_hashtag_viz` function: 5 points\n",
    "- `create_seasonal_decompose_plot` function: 15 points\n",
    "- observations related to `create_seasonal_decompose_plot` function: 5 points\n",
    "\n",
    "### Resources:\n",
    "\n",
    "- [Tweepy API documentation](https://tweepy.readthedocs.io/en/latest/) \n",
    "- [Trump tweet corpus](https://www.thetrumparchive.com/) \n",
    "\n",
    "## Instructions: \n",
    "\n",
    "In this assignment, you will continue to use a Twitter corpus we provide to you. You will process the data and create temporal visualizations of the corpus. For each visualization, you will record observations about these data and their renderings. \n",
    "\n",
    "**Note:** Throughout many functions in this assignment, the [Pandas resample function](https://pandas.pydata.org/docs/reference/api/pandas.DataFrame.resample.html) is incredibly useful; it obviates many issues related to types and binning that could be introduced by other Pandas approaches.\n",
    "\n",
    "**Note:** In previewing your data with print() statements, be mindful that displaying too much data can be problematic within any Jupyter Notebook environment.  If you are seeing an error message saying something like \"data rate exceeded\" when running a cell, it is likely caused by using print() for too large of a data set and we would suggest printing only a sample of the data instead."
   ]
  },
  {
   "cell_type": "code",
   "execution_count": 1,
   "metadata": {
    "deletable": false,
    "nbgrader": {
     "cell_type": "code",
     "checksum": "25c61f7edb4247e081d24cfb00c8dcdb",
     "grade": false,
     "grade_id": "create_tweet_df",
     "locked": false,
     "schema_version": 3,
     "solution": true
    }
   },
   "outputs": [
    {
     "data": {
      "text/html": [
       "<div>\n",
       "<style scoped>\n",
       "    .dataframe tbody tr th:only-of-type {\n",
       "        vertical-align: middle;\n",
       "    }\n",
       "\n",
       "    .dataframe tbody tr th {\n",
       "        vertical-align: top;\n",
       "    }\n",
       "\n",
       "    .dataframe thead th {\n",
       "        text-align: right;\n",
       "    }\n",
       "</style>\n",
       "<table border=\"1\" class=\"dataframe\">\n",
       "  <thead>\n",
       "    <tr style=\"text-align: right;\">\n",
       "      <th></th>\n",
       "      <th>retweet_count</th>\n",
       "      <th>created_at</th>\n",
       "      <th>text</th>\n",
       "      <th>favorited</th>\n",
       "      <th>retweeted</th>\n",
       "      <th>lang</th>\n",
       "      <th>favorite_count</th>\n",
       "    </tr>\n",
       "  </thead>\n",
       "  <tbody>\n",
       "    <tr>\n",
       "      <th>0</th>\n",
       "      <td>28</td>\n",
       "      <td>2009-12-23 17:38:18+00:00</td>\n",
       "      <td>From Donald Trump: Wishing everyone a wonderfu...</td>\n",
       "      <td>False</td>\n",
       "      <td>False</td>\n",
       "      <td>en</td>\n",
       "      <td>12</td>\n",
       "    </tr>\n",
       "    <tr>\n",
       "      <th>1</th>\n",
       "      <td>33</td>\n",
       "      <td>2009-12-03 19:39:09+00:00</td>\n",
       "      <td>Trump International Tower in Chicago ranked 6t...</td>\n",
       "      <td>False</td>\n",
       "      <td>False</td>\n",
       "      <td>en</td>\n",
       "      <td>6</td>\n",
       "    </tr>\n",
       "    <tr>\n",
       "      <th>2</th>\n",
       "      <td>13</td>\n",
       "      <td>2009-11-26 19:55:38+00:00</td>\n",
       "      <td>Wishing you and yours a very Happy and Bountif...</td>\n",
       "      <td>False</td>\n",
       "      <td>False</td>\n",
       "      <td>en</td>\n",
       "      <td>11</td>\n",
       "    </tr>\n",
       "    <tr>\n",
       "      <th>3</th>\n",
       "      <td>5</td>\n",
       "      <td>2009-11-16 21:06:10+00:00</td>\n",
       "      <td>Donald Trump Partners with TV1 on New Reality ...</td>\n",
       "      <td>False</td>\n",
       "      <td>False</td>\n",
       "      <td>en</td>\n",
       "      <td>3</td>\n",
       "    </tr>\n",
       "    <tr>\n",
       "      <th>4</th>\n",
       "      <td>7</td>\n",
       "      <td>2009-11-02 14:57:56+00:00</td>\n",
       "      <td>--Work has begun, ahead of schedule, to build ...</td>\n",
       "      <td>False</td>\n",
       "      <td>False</td>\n",
       "      <td>en</td>\n",
       "      <td>6</td>\n",
       "    </tr>\n",
       "    <tr>\n",
       "      <th>...</th>\n",
       "      <td>...</td>\n",
       "      <td>...</td>\n",
       "      <td>...</td>\n",
       "      <td>...</td>\n",
       "      <td>...</td>\n",
       "      <td>...</td>\n",
       "      <td>...</td>\n",
       "    </tr>\n",
       "    <tr>\n",
       "      <th>2600</th>\n",
       "      <td>6847</td>\n",
       "      <td>2017-01-01 06:49:33+00:00</td>\n",
       "      <td>RT @DonaldJTrumpJr: Happy new year everyone. #...</td>\n",
       "      <td>False</td>\n",
       "      <td>False</td>\n",
       "      <td>en</td>\n",
       "      <td>0</td>\n",
       "    </tr>\n",
       "    <tr>\n",
       "      <th>2601</th>\n",
       "      <td>6941</td>\n",
       "      <td>2017-01-01 05:44:17+00:00</td>\n",
       "      <td>RT @EricTrump: 2016 was such an incredible yea...</td>\n",
       "      <td>False</td>\n",
       "      <td>False</td>\n",
       "      <td>en</td>\n",
       "      <td>0</td>\n",
       "    </tr>\n",
       "    <tr>\n",
       "      <th>2602</th>\n",
       "      <td>7144</td>\n",
       "      <td>2017-01-01 05:43:23+00:00</td>\n",
       "      <td>RT @Reince: Happy New Year + God's blessings t...</td>\n",
       "      <td>False</td>\n",
       "      <td>False</td>\n",
       "      <td>en</td>\n",
       "      <td>0</td>\n",
       "    </tr>\n",
       "    <tr>\n",
       "      <th>2603</th>\n",
       "      <td>5548</td>\n",
       "      <td>2017-01-01 05:39:13+00:00</td>\n",
       "      <td>RT @DanScavino: On behalf of our next #POTUS &amp;...</td>\n",
       "      <td>False</td>\n",
       "      <td>False</td>\n",
       "      <td>en</td>\n",
       "      <td>0</td>\n",
       "    </tr>\n",
       "    <tr>\n",
       "      <th>2604</th>\n",
       "      <td>32665</td>\n",
       "      <td>2017-01-01 05:00:10+00:00</td>\n",
       "      <td>TO ALL AMERICANS-\\n#HappyNewYear &amp;amp; many bl...</td>\n",
       "      <td>False</td>\n",
       "      <td>False</td>\n",
       "      <td>en</td>\n",
       "      <td>126230</td>\n",
       "    </tr>\n",
       "  </tbody>\n",
       "</table>\n",
       "<p>32797 rows × 7 columns</p>\n",
       "</div>"
      ],
      "text/plain": [
       "      retweet_count                created_at  \\\n",
       "0                28 2009-12-23 17:38:18+00:00   \n",
       "1                33 2009-12-03 19:39:09+00:00   \n",
       "2                13 2009-11-26 19:55:38+00:00   \n",
       "3                 5 2009-11-16 21:06:10+00:00   \n",
       "4                 7 2009-11-02 14:57:56+00:00   \n",
       "...             ...                       ...   \n",
       "2600           6847 2017-01-01 06:49:33+00:00   \n",
       "2601           6941 2017-01-01 05:44:17+00:00   \n",
       "2602           7144 2017-01-01 05:43:23+00:00   \n",
       "2603           5548 2017-01-01 05:39:13+00:00   \n",
       "2604          32665 2017-01-01 05:00:10+00:00   \n",
       "\n",
       "                                                   text  favorited  retweeted  \\\n",
       "0     From Donald Trump: Wishing everyone a wonderfu...      False      False   \n",
       "1     Trump International Tower in Chicago ranked 6t...      False      False   \n",
       "2     Wishing you and yours a very Happy and Bountif...      False      False   \n",
       "3     Donald Trump Partners with TV1 on New Reality ...      False      False   \n",
       "4     --Work has begun, ahead of schedule, to build ...      False      False   \n",
       "...                                                 ...        ...        ...   \n",
       "2600  RT @DonaldJTrumpJr: Happy new year everyone. #...      False      False   \n",
       "2601  RT @EricTrump: 2016 was such an incredible yea...      False      False   \n",
       "2602  RT @Reince: Happy New Year + God's blessings t...      False      False   \n",
       "2603  RT @DanScavino: On behalf of our next #POTUS &...      False      False   \n",
       "2604  TO ALL AMERICANS-\\n#HappyNewYear &amp; many bl...      False      False   \n",
       "\n",
       "     lang  favorite_count  \n",
       "0      en              12  \n",
       "1      en               6  \n",
       "2      en              11  \n",
       "3      en               3  \n",
       "4      en               6  \n",
       "...   ...             ...  \n",
       "2600   en               0  \n",
       "2601   en               0  \n",
       "2602   en               0  \n",
       "2603   en               0  \n",
       "2604   en          126230  \n",
       "\n",
       "[32797 rows x 7 columns]"
      ]
     },
     "execution_count": 1,
     "metadata": {},
     "output_type": "execute_result"
    }
   ],
   "source": [
    "import json\n",
    "import os\n",
    "import pandas as pd\n",
    "\n",
    "def create_tweet_df():\n",
    "    \"\"\"\n",
    "    5 points\n",
    "    Use all the json files in the folder assets/trump_data_archive/\n",
    "    The dataframe must have the following columns:\n",
    "        'retweet_count', int\n",
    "        'created_at', datetime\n",
    "        'text', object\n",
    "        'favorited', bool\n",
    "        'retweeted', bool\n",
    "        'lang', object\n",
    "        'favorite_count', int \n",
    "        \n",
    "    Note that some time in 2017, Twitter seems to have switched from suppling the \n",
    "    'text' field to the 'full_text' field. This kind of thing happens when you're dealing\n",
    "    with data supplied by someone else.\n",
    "    In your dataframe, make sure 'text' column has data from either 'text' or 'full_text', whichever\n",
    "    is present. Otherwise, when you compute counts later on in this assignment, you will find that\n",
    "    the counts are all 0 after a certain date.\n",
    "    \"\"\"\n",
    "    use_cols = [\"retweet_count\", \"created_at\", \"text\", \"favorited\", \"retweeted\", \"lang\", \"favorite_count\"]\n",
    "    all_data = []\n",
    "    for file in sorted(os.listdir(\"assets/trump_data_archive\")):\n",
    "        if file.endswith(\"json\"):\n",
    "            df = pd.read_json(os.path.join(\"assets\", \"trump_data_archive\", file))\n",
    "            if \"full_text\" in df.columns:\n",
    "                df.loc[df[\"full_text\"].isna(), \"full_text\"] = df.loc[df[\"full_text\"].isna(), \"text\"]\n",
    "                df = df.drop(columns=\"text\").rename(columns={\"full_text\":\"text\"})\n",
    "            df = df[use_cols]\n",
    "            all_data.append(df)\n",
    "            \n",
    "    tweets_df = pd.concat(all_data, axis=0)\n",
    "    return tweets_df\n",
    "\n",
    "df = create_tweet_df()\n",
    "df"
   ]
  },
  {
   "cell_type": "code",
   "execution_count": 2,
   "metadata": {
    "deletable": false,
    "editable": false,
    "nbgrader": {
     "cell_type": "code",
     "checksum": "747e0a175616cba2b615e92be6a3e3fd",
     "grade": true,
     "grade_id": "create_tweet_df_test",
     "locked": true,
     "points": 5,
     "schema_version": 3,
     "solution": false
    }
   },
   "outputs": [],
   "source": [
    "import json\n",
    "import pandas as pd\n",
    "import os\n",
    "import numpy as np\n",
    "\n",
    "df = create_tweet_df()\n",
    "df_length = 32797\n",
    "assert len(df) == df_length, \"create_tweet_df, the length of the dataframe should be %d\" % df_length\n",
    "df_cols = ['retweet_count', 'created_at','favorited','text', 'favorite_count','retweeted','lang']\n",
    "for col_name in df_cols:\n",
    "    assert col_name in df.columns.values, \"create_tweet_df, the column %s should be included\" % col_name"
   ]
  },
  {
   "cell_type": "markdown",
   "metadata": {
    "deletable": false,
    "editable": false,
    "nbgrader": {
     "cell_type": "markdown",
     "checksum": "8c063492ffe88c8cf02d19ed591b0033",
     "grade": false,
     "grade_id": "cell-c5e00e0ab202bb20",
     "locked": true,
     "schema_version": 3,
     "solution": false
    }
   },
   "source": [
    "## Using the functions below, you will be recreating the visualizations displayed here:\n",
    "<img src=\"assets/example_plot_2.png\" alt=\"three bar charts plotting tweet count, average number of favorites, and average number of retweets over time\" style=\"width: 1000px;\"/>"
   ]
  },
  {
   "cell_type": "code",
   "execution_count": 3,
   "metadata": {},
   "outputs": [
    {
     "data": {
      "text/html": [
       "<div>\n",
       "<style scoped>\n",
       "    .dataframe tbody tr th:only-of-type {\n",
       "        vertical-align: middle;\n",
       "    }\n",
       "\n",
       "    .dataframe tbody tr th {\n",
       "        vertical-align: top;\n",
       "    }\n",
       "\n",
       "    .dataframe thead th {\n",
       "        text-align: right;\n",
       "    }\n",
       "</style>\n",
       "<table border=\"1\" class=\"dataframe\">\n",
       "  <thead>\n",
       "    <tr style=\"text-align: right;\">\n",
       "      <th></th>\n",
       "      <th>created_at</th>\n",
       "      <th>favorite avg</th>\n",
       "    </tr>\n",
       "  </thead>\n",
       "  <tbody>\n",
       "    <tr>\n",
       "      <th>0</th>\n",
       "      <td>2009-05-31 00:00:00+00:00</td>\n",
       "      <td>115.142857</td>\n",
       "    </tr>\n",
       "    <tr>\n",
       "      <th>1</th>\n",
       "      <td>2009-06-30 00:00:00+00:00</td>\n",
       "      <td>14.818182</td>\n",
       "    </tr>\n",
       "    <tr>\n",
       "      <th>2</th>\n",
       "      <td>2009-07-31 00:00:00+00:00</td>\n",
       "      <td>8.200000</td>\n",
       "    </tr>\n",
       "    <tr>\n",
       "      <th>3</th>\n",
       "      <td>2009-08-31 00:00:00+00:00</td>\n",
       "      <td>8.285714</td>\n",
       "    </tr>\n",
       "    <tr>\n",
       "      <th>4</th>\n",
       "      <td>2009-09-30 00:00:00+00:00</td>\n",
       "      <td>22.000000</td>\n",
       "    </tr>\n",
       "    <tr>\n",
       "      <th>...</th>\n",
       "      <td>...</td>\n",
       "      <td>...</td>\n",
       "    </tr>\n",
       "    <tr>\n",
       "      <th>100</th>\n",
       "      <td>2017-09-30 00:00:00+00:00</td>\n",
       "      <td>63093.983660</td>\n",
       "    </tr>\n",
       "    <tr>\n",
       "      <th>101</th>\n",
       "      <td>2017-10-31 00:00:00+00:00</td>\n",
       "      <td>66643.286207</td>\n",
       "    </tr>\n",
       "    <tr>\n",
       "      <th>102</th>\n",
       "      <td>2017-11-30 00:00:00+00:00</td>\n",
       "      <td>73557.272031</td>\n",
       "    </tr>\n",
       "    <tr>\n",
       "      <th>103</th>\n",
       "      <td>2017-12-31 00:00:00+00:00</td>\n",
       "      <td>82282.889447</td>\n",
       "    </tr>\n",
       "    <tr>\n",
       "      <th>104</th>\n",
       "      <td>2018-01-31 00:00:00+00:00</td>\n",
       "      <td>81279.333333</td>\n",
       "    </tr>\n",
       "  </tbody>\n",
       "</table>\n",
       "<p>105 rows × 2 columns</p>\n",
       "</div>"
      ],
      "text/plain": [
       "                   created_at  favorite avg\n",
       "0   2009-05-31 00:00:00+00:00    115.142857\n",
       "1   2009-06-30 00:00:00+00:00     14.818182\n",
       "2   2009-07-31 00:00:00+00:00      8.200000\n",
       "3   2009-08-31 00:00:00+00:00      8.285714\n",
       "4   2009-09-30 00:00:00+00:00     22.000000\n",
       "..                        ...           ...\n",
       "100 2017-09-30 00:00:00+00:00  63093.983660\n",
       "101 2017-10-31 00:00:00+00:00  66643.286207\n",
       "102 2017-11-30 00:00:00+00:00  73557.272031\n",
       "103 2017-12-31 00:00:00+00:00  82282.889447\n",
       "104 2018-01-31 00:00:00+00:00  81279.333333\n",
       "\n",
       "[105 rows x 2 columns]"
      ]
     },
     "execution_count": 3,
     "metadata": {},
     "output_type": "execute_result"
    }
   ],
   "source": [
    "df.set_index(\"created_at\").resample(\"m\")[\"favorite_count\"].agg([\"mean\"]).reset_index().rename(columns={\"mean\":\"favorite avg\"})"
   ]
  },
  {
   "cell_type": "code",
   "execution_count": 4,
   "metadata": {
    "deletable": false,
    "nbgrader": {
     "cell_type": "code",
     "checksum": "fc2c3faf6a5a6bfd9264d6a4b39ebdc8",
     "grade": false,
     "grade_id": "create_tweet_sum_df",
     "locked": false,
     "schema_version": 3,
     "solution": true
    }
   },
   "outputs": [],
   "source": [
    "import pandas as pd\n",
    "\n",
    "# 15 points if you pass the tests for all three of these functions\n",
    "\n",
    "def create_tweet_count_df(tweets_df):\n",
    "    \"\"\" \n",
    "    Create a dataframe with the count of tweets each month\n",
    "    The dataframe must have the following columns:\n",
    "        'count', int, the number of tweets created each month\n",
    "        'created_at', datetime, the date at which tweets were created\n",
    "    See tests in the next cell to see what the first row should contain.\n",
    "    HINT: see note at top of notebook\n",
    "    \"\"\"\n",
    "    return df.set_index(\"created_at\").resample(\"m\")[\"text\"].agg([\"count\"]).reset_index()\n",
    "\n",
    "def create_favorite_avg_df(tweets_df):\n",
    "    \"\"\" \n",
    "    Create a dataframe with the average of favorites of tweets created each month\n",
    "    The dataframe must have the following columns:\n",
    "        'favorite avg', int, the average of favorites of all of the tweets created each month\n",
    "        'created_at', datetime, the date at which tweets were created\n",
    "    HINT: see note at top of notebook\n",
    "    \"\"\"\n",
    "    return df.set_index(\"created_at\").resample(\"m\")[\"favorite_count\"].agg([\"mean\"]).reset_index().rename(columns={\"mean\":\"favorite avg\"})\n",
    "\n",
    "def create_retweet_avg_df(tweets_df):\n",
    "    \"\"\" \n",
    "    Create a dataframe with the average of retweets of the tweets created each month\n",
    "    The dataframe must have the following columns:\n",
    "        'retweet avg', int, the average of retweets of all of the tweets created each month\n",
    "        'created_at', datetime, the date at which tweets were created\n",
    "    HINT: see note at top of notebook\n",
    "    \"\"\"\n",
    "    return df.set_index(\"created_at\").resample(\"m\")[\"retweet_count\"].agg([\"mean\"]).reset_index().rename(columns={\"mean\":\"retweet avg\"})"
   ]
  },
  {
   "cell_type": "code",
   "execution_count": 5,
   "metadata": {
    "deletable": false,
    "editable": false,
    "nbgrader": {
     "cell_type": "code",
     "checksum": "1a84866c572f09bb220bb5ce1692ed32",
     "grade": true,
     "grade_id": "create_tweet_sum_df_test",
     "locked": true,
     "points": 15,
     "schema_version": 3,
     "solution": false
    }
   },
   "outputs": [],
   "source": [
    "import json\n",
    "import pandas as pd\n",
    "import os\n",
    "import datetime\n",
    "\n",
    "t_df = create_tweet_df()\n",
    "t_count = create_tweet_count_df(t_df)\n",
    "\n",
    "# check that the first row of t_count is for \"2009-05-31 00:00:00+00:00\" with count of 21\n",
    "assert t_count.loc[0,'created_at'].date() == datetime.date(2009, 5, 31)\n",
    "assert t_count.loc[0,'count'] == 21\n",
    "\n",
    "t_fav = create_favorite_avg_df(t_df)\n",
    "t_rt = create_retweet_avg_df(t_df)\n",
    "\n",
    "df_length = 105\n",
    "assert len(t_count) == df_length, \"create_tweet_count_df, the length of the dataframe should be %d\" % df_length\n",
    "assert len(t_fav) == df_length, \"create_favorite_avg_df, the length of the dataframe should be %d\" % df_length\n",
    "assert len(t_rt) == df_length, \"create_retweet_avg_df, the length of the dataframe should be %d\" % df_length\n",
    "\n",
    "for tup in [(t_count, \"create_tweet_count_df\"), (t_fav, \"create_favorite_avg_df\"), (t_rt, \"create_retweet_avg_df\")]:\n",
    "    assert 'created_at' in tup[0].columns.values, \"%s, the column created_at should be included\" % tup[1]\n",
    "\n",
    "assert 'count' in t_count.columns.values, \"create_tweet_count_df, the column count should be included\"\n",
    "assert 'favorite avg' in t_fav.columns.values, \"create_favorite_avg_df, the column favorite avg should be included\"\n",
    "assert 'retweet avg' in t_rt.columns.values, \"create_retweet_avg_df, the column retweet avg should be included\"\n"
   ]
  },
  {
   "cell_type": "code",
   "execution_count": 6,
   "metadata": {
    "deletable": false,
    "nbgrader": {
     "cell_type": "code",
     "checksum": "f817385f389058c15709821ab823da76",
     "grade": true,
     "grade_id": "create_tweet_sum_viz",
     "locked": false,
     "points": 0,
     "schema_version": 3,
     "solution": true
    }
   },
   "outputs": [
    {
     "data": {
      "text/html": [
       "\n",
       "<div id=\"altair-viz-ebea5d5bcf354eca96ac13f00904210f\"></div>\n",
       "<script type=\"text/javascript\">\n",
       "  (function(spec, embedOpt){\n",
       "    let outputDiv = document.currentScript.previousElementSibling;\n",
       "    if (outputDiv.id !== \"altair-viz-ebea5d5bcf354eca96ac13f00904210f\") {\n",
       "      outputDiv = document.getElementById(\"altair-viz-ebea5d5bcf354eca96ac13f00904210f\");\n",
       "    }\n",
       "    const paths = {\n",
       "      \"vega\": \"https://cdn.jsdelivr.net/npm//vega@5?noext\",\n",
       "      \"vega-lib\": \"https://cdn.jsdelivr.net/npm//vega-lib?noext\",\n",
       "      \"vega-lite\": \"https://cdn.jsdelivr.net/npm//vega-lite@4.8.1?noext\",\n",
       "      \"vega-embed\": \"https://cdn.jsdelivr.net/npm//vega-embed@6?noext\",\n",
       "    };\n",
       "\n",
       "    function loadScript(lib) {\n",
       "      return new Promise(function(resolve, reject) {\n",
       "        var s = document.createElement('script');\n",
       "        s.src = paths[lib];\n",
       "        s.async = true;\n",
       "        s.onload = () => resolve(paths[lib]);\n",
       "        s.onerror = () => reject(`Error loading script: ${paths[lib]}`);\n",
       "        document.getElementsByTagName(\"head\")[0].appendChild(s);\n",
       "      });\n",
       "    }\n",
       "\n",
       "    function showError(err) {\n",
       "      outputDiv.innerHTML = `<div class=\"error\" style=\"color:red;\">${err}</div>`;\n",
       "      throw err;\n",
       "    }\n",
       "\n",
       "    function displayChart(vegaEmbed) {\n",
       "      vegaEmbed(outputDiv, spec, embedOpt)\n",
       "        .catch(err => showError(`Javascript Error: ${err.message}<br>This usually means there's a typo in your chart specification. See the javascript console for the full traceback.`));\n",
       "    }\n",
       "\n",
       "    if(typeof define === \"function\" && define.amd) {\n",
       "      requirejs.config({paths});\n",
       "      require([\"vega-embed\"], displayChart, err => showError(`Error loading script: ${err.message}`));\n",
       "    } else if (typeof vegaEmbed === \"function\") {\n",
       "      displayChart(vegaEmbed);\n",
       "    } else {\n",
       "      loadScript(\"vega\")\n",
       "        .then(() => loadScript(\"vega-lite\"))\n",
       "        .then(() => loadScript(\"vega-embed\"))\n",
       "        .catch(showError)\n",
       "        .then(() => displayChart(vegaEmbed));\n",
       "    }\n",
       "  })({\"config\": {\"view\": {\"continuousWidth\": 400, \"continuousHeight\": 300}}, \"hconcat\": [{\"data\": {\"name\": \"data-206d2e3ffeb144eee28afd24d67a26e3\"}, \"mark\": \"bar\", \"encoding\": {\"x\": {\"type\": \"temporal\", \"field\": \"created_at\"}, \"y\": {\"type\": \"quantitative\", \"field\": \"count\"}}}, {\"data\": {\"name\": \"data-f022e699f612d61cd10ed27fa7792238\"}, \"mark\": \"bar\", \"encoding\": {\"x\": {\"type\": \"temporal\", \"field\": \"created_at\"}, \"y\": {\"type\": \"quantitative\", \"field\": \"favorite avg\"}}}, {\"data\": {\"name\": \"data-65ce3cd453629d0e214a0ac8de7d5e06\"}, \"mark\": \"bar\", \"encoding\": {\"x\": {\"type\": \"temporal\", \"field\": \"created_at\"}, \"y\": {\"type\": \"quantitative\", \"field\": \"retweet avg\"}}}], \"$schema\": \"https://vega.github.io/schema/vega-lite/v4.8.1.json\", \"datasets\": {\"data-206d2e3ffeb144eee28afd24d67a26e3\": [{\"created_at\": \"2009-05-31T00:00:00+00:00\", \"count\": 21}, {\"created_at\": \"2009-06-30T00:00:00+00:00\", \"count\": 11}, {\"created_at\": \"2009-07-31T00:00:00+00:00\", \"count\": 5}, {\"created_at\": \"2009-08-31T00:00:00+00:00\", \"count\": 7}, {\"created_at\": \"2009-09-30T00:00:00+00:00\", \"count\": 3}, {\"created_at\": \"2009-10-31T00:00:00+00:00\", \"count\": 4}, {\"created_at\": \"2009-11-30T00:00:00+00:00\", \"count\": 3}, {\"created_at\": \"2009-12-31T00:00:00+00:00\", \"count\": 2}, {\"created_at\": \"2010-01-31T00:00:00+00:00\", \"count\": 4}, {\"created_at\": \"2010-02-28T00:00:00+00:00\", \"count\": 4}, {\"created_at\": \"2010-03-31T00:00:00+00:00\", \"count\": 10}, {\"created_at\": \"2010-04-30T00:00:00+00:00\", \"count\": 18}, {\"created_at\": \"2010-05-31T00:00:00+00:00\", \"count\": 17}, {\"created_at\": \"2010-06-30T00:00:00+00:00\", \"count\": 17}, {\"created_at\": \"2010-07-31T00:00:00+00:00\", \"count\": 13}, {\"created_at\": \"2010-08-31T00:00:00+00:00\", \"count\": 16}, {\"created_at\": \"2010-09-30T00:00:00+00:00\", \"count\": 13}, {\"created_at\": \"2010-10-31T00:00:00+00:00\", \"count\": 9}, {\"created_at\": \"2010-11-30T00:00:00+00:00\", \"count\": 11}, {\"created_at\": \"2010-12-31T00:00:00+00:00\", \"count\": 10}, {\"created_at\": \"2011-01-31T00:00:00+00:00\", \"count\": 9}, {\"created_at\": \"2011-02-28T00:00:00+00:00\", \"count\": 16}, {\"created_at\": \"2011-03-31T00:00:00+00:00\", \"count\": 36}, {\"created_at\": \"2011-04-30T00:00:00+00:00\", \"count\": 5}, {\"created_at\": \"2011-05-31T00:00:00+00:00\", \"count\": 13}, {\"created_at\": \"2011-06-30T00:00:00+00:00\", \"count\": 16}, {\"created_at\": \"2011-07-31T00:00:00+00:00\", \"count\": 73}, {\"created_at\": \"2011-08-31T00:00:00+00:00\", \"count\": 94}, {\"created_at\": \"2011-09-30T00:00:00+00:00\", \"count\": 110}, {\"created_at\": \"2011-10-31T00:00:00+00:00\", \"count\": 106}, {\"created_at\": \"2011-11-30T00:00:00+00:00\", \"count\": 112}, {\"created_at\": \"2011-12-31T00:00:00+00:00\", \"count\": 184}, {\"created_at\": \"2012-01-31T00:00:00+00:00\", \"count\": 162}, {\"created_at\": \"2012-02-29T00:00:00+00:00\", \"count\": 225}, {\"created_at\": \"2012-03-31T00:00:00+00:00\", \"count\": 177}, {\"created_at\": \"2012-04-30T00:00:00+00:00\", \"count\": 174}, {\"created_at\": \"2012-05-31T00:00:00+00:00\", \"count\": 224}, {\"created_at\": \"2012-06-30T00:00:00+00:00\", \"count\": 184}, {\"created_at\": \"2012-07-31T00:00:00+00:00\", \"count\": 203}, {\"created_at\": \"2012-08-31T00:00:00+00:00\", \"count\": 333}, {\"created_at\": \"2012-09-30T00:00:00+00:00\", \"count\": 345}, {\"created_at\": \"2012-10-31T00:00:00+00:00\", \"count\": 642}, {\"created_at\": \"2012-11-30T00:00:00+00:00\", \"count\": 490}, {\"created_at\": \"2012-12-31T00:00:00+00:00\", \"count\": 372}, {\"created_at\": \"2013-01-31T00:00:00+00:00\", \"count\": 721}, {\"created_at\": \"2013-02-28T00:00:00+00:00\", \"count\": 893}, {\"created_at\": \"2013-03-31T00:00:00+00:00\", \"count\": 826}, {\"created_at\": \"2013-04-30T00:00:00+00:00\", \"count\": 902}, {\"created_at\": \"2013-05-31T00:00:00+00:00\", \"count\": 781}, {\"created_at\": \"2013-06-30T00:00:00+00:00\", \"count\": 463}, {\"created_at\": \"2013-07-31T00:00:00+00:00\", \"count\": 865}, {\"created_at\": \"2013-08-31T00:00:00+00:00\", \"count\": 716}, {\"created_at\": \"2013-09-30T00:00:00+00:00\", \"count\": 673}, {\"created_at\": \"2013-10-31T00:00:00+00:00\", \"count\": 558}, {\"created_at\": \"2013-11-30T00:00:00+00:00\", \"count\": 377}, {\"created_at\": \"2013-12-31T00:00:00+00:00\", \"count\": 369}, {\"created_at\": \"2014-01-31T00:00:00+00:00\", \"count\": 358}, {\"created_at\": \"2014-02-28T00:00:00+00:00\", \"count\": 284}, {\"created_at\": \"2014-03-31T00:00:00+00:00\", \"count\": 377}, {\"created_at\": \"2014-04-30T00:00:00+00:00\", \"count\": 512}, {\"created_at\": \"2014-05-31T00:00:00+00:00\", \"count\": 364}, {\"created_at\": \"2014-06-30T00:00:00+00:00\", \"count\": 748}, {\"created_at\": \"2014-07-31T00:00:00+00:00\", \"count\": 468}, {\"created_at\": \"2014-08-31T00:00:00+00:00\", \"count\": 334}, {\"created_at\": \"2014-09-30T00:00:00+00:00\", \"count\": 497}, {\"created_at\": \"2014-10-31T00:00:00+00:00\", \"count\": 609}, {\"created_at\": \"2014-11-30T00:00:00+00:00\", \"count\": 574}, {\"created_at\": \"2014-12-31T00:00:00+00:00\", \"count\": 659}, {\"created_at\": \"2015-01-31T00:00:00+00:00\", \"count\": 1119}, {\"created_at\": \"2015-02-28T00:00:00+00:00\", \"count\": 468}, {\"created_at\": \"2015-03-31T00:00:00+00:00\", \"count\": 404}, {\"created_at\": \"2015-04-30T00:00:00+00:00\", \"count\": 798}, {\"created_at\": \"2015-05-31T00:00:00+00:00\", \"count\": 707}, {\"created_at\": \"2015-06-30T00:00:00+00:00\", \"count\": 529}, {\"created_at\": \"2015-07-31T00:00:00+00:00\", \"count\": 790}, {\"created_at\": \"2015-08-31T00:00:00+00:00\", \"count\": 355}, {\"created_at\": \"2015-09-30T00:00:00+00:00\", \"count\": 409}, {\"created_at\": \"2015-10-31T00:00:00+00:00\", \"count\": 790}, {\"created_at\": \"2015-11-30T00:00:00+00:00\", \"count\": 576}, {\"created_at\": \"2015-12-31T00:00:00+00:00\", \"count\": 591}, {\"created_at\": \"2016-01-31T00:00:00+00:00\", \"count\": 492}, {\"created_at\": \"2016-02-29T00:00:00+00:00\", \"count\": 494}, {\"created_at\": \"2016-03-31T00:00:00+00:00\", \"count\": 441}, {\"created_at\": \"2016-04-30T00:00:00+00:00\", \"count\": 284}, {\"created_at\": \"2016-05-31T00:00:00+00:00\", \"count\": 351}, {\"created_at\": \"2016-06-30T00:00:00+00:00\", \"count\": 303}, {\"created_at\": \"2016-07-31T00:00:00+00:00\", \"count\": 378}, {\"created_at\": \"2016-08-31T00:00:00+00:00\", \"count\": 325}, {\"created_at\": \"2016-09-30T00:00:00+00:00\", \"count\": 296}, {\"created_at\": \"2016-10-31T00:00:00+00:00\", \"count\": 530}, {\"created_at\": \"2016-11-30T00:00:00+00:00\", \"count\": 193}, {\"created_at\": \"2016-12-31T00:00:00+00:00\", \"count\": 138}, {\"created_at\": \"2017-01-31T00:00:00+00:00\", \"count\": 214}, {\"created_at\": \"2017-02-28T00:00:00+00:00\", \"count\": 154}, {\"created_at\": \"2017-03-31T00:00:00+00:00\", \"count\": 147}, {\"created_at\": \"2017-04-30T00:00:00+00:00\", \"count\": 152}, {\"created_at\": \"2017-05-31T00:00:00+00:00\", \"count\": 155}, {\"created_at\": \"2017-06-30T00:00:00+00:00\", \"count\": 212}, {\"created_at\": \"2017-07-31T00:00:00+00:00\", \"count\": 245}, {\"created_at\": \"2017-08-31T00:00:00+00:00\", \"count\": 267}, {\"created_at\": \"2017-09-30T00:00:00+00:00\", \"count\": 306}, {\"created_at\": \"2017-10-31T00:00:00+00:00\", \"count\": 290}, {\"created_at\": \"2017-11-30T00:00:00+00:00\", \"count\": 261}, {\"created_at\": \"2017-12-31T00:00:00+00:00\", \"count\": 199}, {\"created_at\": \"2018-01-31T00:00:00+00:00\", \"count\": 3}], \"data-f022e699f612d61cd10ed27fa7792238\": [{\"created_at\": \"2009-05-31T00:00:00+00:00\", \"favorite avg\": 115.14285714285714}, {\"created_at\": \"2009-06-30T00:00:00+00:00\", \"favorite avg\": 14.818181818181818}, {\"created_at\": \"2009-07-31T00:00:00+00:00\", \"favorite avg\": 8.2}, {\"created_at\": \"2009-08-31T00:00:00+00:00\", \"favorite avg\": 8.285714285714286}, {\"created_at\": \"2009-09-30T00:00:00+00:00\", \"favorite avg\": 22.0}, {\"created_at\": \"2009-10-31T00:00:00+00:00\", \"favorite avg\": 5.25}, {\"created_at\": \"2009-11-30T00:00:00+00:00\", \"favorite avg\": 6.666666666666667}, {\"created_at\": \"2009-12-31T00:00:00+00:00\", \"favorite avg\": 9.0}, {\"created_at\": \"2010-01-31T00:00:00+00:00\", \"favorite avg\": 811.75}, {\"created_at\": \"2010-02-28T00:00:00+00:00\", \"favorite avg\": 7.0}, {\"created_at\": \"2010-03-31T00:00:00+00:00\", \"favorite avg\": 6.6}, {\"created_at\": \"2010-04-30T00:00:00+00:00\", \"favorite avg\": 261.1111111111111}, {\"created_at\": \"2010-05-31T00:00:00+00:00\", \"favorite avg\": 15.176470588235293}, {\"created_at\": \"2010-06-30T00:00:00+00:00\", \"favorite avg\": 4.882352941176471}, {\"created_at\": \"2010-07-31T00:00:00+00:00\", \"favorite avg\": 6.153846153846154}, {\"created_at\": \"2010-08-31T00:00:00+00:00\", \"favorite avg\": 10.25}, {\"created_at\": \"2010-09-30T00:00:00+00:00\", \"favorite avg\": 16.384615384615383}, {\"created_at\": \"2010-10-31T00:00:00+00:00\", \"favorite avg\": 6.222222222222222}, {\"created_at\": \"2010-11-30T00:00:00+00:00\", \"favorite avg\": 8.454545454545455}, {\"created_at\": \"2010-12-31T00:00:00+00:00\", \"favorite avg\": 19.6}, {\"created_at\": \"2011-01-31T00:00:00+00:00\", \"favorite avg\": 16.88888888888889}, {\"created_at\": \"2011-02-28T00:00:00+00:00\", \"favorite avg\": 41.625}, {\"created_at\": \"2011-03-31T00:00:00+00:00\", \"favorite avg\": 16.88888888888889}, {\"created_at\": \"2011-04-30T00:00:00+00:00\", \"favorite avg\": 14.4}, {\"created_at\": \"2011-05-31T00:00:00+00:00\", \"favorite avg\": 50.53846153846154}, {\"created_at\": \"2011-06-30T00:00:00+00:00\", \"favorite avg\": 13.5625}, {\"created_at\": \"2011-07-31T00:00:00+00:00\", \"favorite avg\": 43.054794520547944}, {\"created_at\": \"2011-08-31T00:00:00+00:00\", \"favorite avg\": 125.91489361702128}, {\"created_at\": \"2011-09-30T00:00:00+00:00\", \"favorite avg\": 38.054545454545455}, {\"created_at\": \"2011-10-31T00:00:00+00:00\", \"favorite avg\": 49.9811320754717}, {\"created_at\": \"2011-11-30T00:00:00+00:00\", \"favorite avg\": 32.36607142857143}, {\"created_at\": \"2011-12-31T00:00:00+00:00\", \"favorite avg\": 144.05434782608697}, {\"created_at\": \"2012-01-31T00:00:00+00:00\", \"favorite avg\": 49.46913580246913}, {\"created_at\": \"2012-02-29T00:00:00+00:00\", \"favorite avg\": 29.613333333333333}, {\"created_at\": \"2012-03-31T00:00:00+00:00\", \"favorite avg\": 35.632768361581924}, {\"created_at\": \"2012-04-30T00:00:00+00:00\", \"favorite avg\": 42.58620689655172}, {\"created_at\": \"2012-05-31T00:00:00+00:00\", \"favorite avg\": 38.232142857142854}, {\"created_at\": \"2012-06-30T00:00:00+00:00\", \"favorite avg\": 44.04891304347826}, {\"created_at\": \"2012-07-31T00:00:00+00:00\", \"favorite avg\": 101.09852216748769}, {\"created_at\": \"2012-08-31T00:00:00+00:00\", \"favorite avg\": 122.93693693693693}, {\"created_at\": \"2012-09-30T00:00:00+00:00\", \"favorite avg\": 195.98840579710145}, {\"created_at\": \"2012-10-31T00:00:00+00:00\", \"favorite avg\": 447.898753894081}, {\"created_at\": \"2012-11-30T00:00:00+00:00\", \"favorite avg\": 671.1938775510204}, {\"created_at\": \"2012-12-31T00:00:00+00:00\", \"favorite avg\": 92.33602150537635}, {\"created_at\": \"2013-01-31T00:00:00+00:00\", \"favorite avg\": 106.19278779472954}, {\"created_at\": \"2013-02-28T00:00:00+00:00\", \"favorite avg\": 86.41993281075028}, {\"created_at\": \"2013-03-31T00:00:00+00:00\", \"favorite avg\": 124.6452784503632}, {\"created_at\": \"2013-04-30T00:00:00+00:00\", \"favorite avg\": 101.49556541019956}, {\"created_at\": \"2013-05-31T00:00:00+00:00\", \"favorite avg\": 196.05377720870678}, {\"created_at\": \"2013-06-30T00:00:00+00:00\", \"favorite avg\": 164.9524838012959}, {\"created_at\": \"2013-07-31T00:00:00+00:00\", \"favorite avg\": 70.94566473988439}, {\"created_at\": \"2013-08-31T00:00:00+00:00\", \"favorite avg\": 56.3072625698324}, {\"created_at\": \"2013-09-30T00:00:00+00:00\", \"favorite avg\": 122.15304606240713}, {\"created_at\": \"2013-10-31T00:00:00+00:00\", \"favorite avg\": 136.27598566308242}, {\"created_at\": \"2013-11-30T00:00:00+00:00\", \"favorite avg\": 183.19893899204243}, {\"created_at\": \"2013-12-31T00:00:00+00:00\", \"favorite avg\": 259.02168021680217}, {\"created_at\": \"2014-01-31T00:00:00+00:00\", \"favorite avg\": 165.08379888268158}, {\"created_at\": \"2014-02-28T00:00:00+00:00\", \"favorite avg\": 126.7394366197183}, {\"created_at\": \"2014-03-31T00:00:00+00:00\", \"favorite avg\": 212.50928381962865}, {\"created_at\": \"2014-04-30T00:00:00+00:00\", \"favorite avg\": 110.8984375}, {\"created_at\": \"2014-05-31T00:00:00+00:00\", \"favorite avg\": 196.12087912087912}, {\"created_at\": \"2014-06-30T00:00:00+00:00\", \"favorite avg\": 133.84625668449198}, {\"created_at\": \"2014-07-31T00:00:00+00:00\", \"favorite avg\": 143.9508547008547}, {\"created_at\": \"2014-08-31T00:00:00+00:00\", \"favorite avg\": 164.38023952095807}, {\"created_at\": \"2014-09-30T00:00:00+00:00\", \"favorite avg\": 316.37625754527164}, {\"created_at\": \"2014-10-31T00:00:00+00:00\", \"favorite avg\": 242.51067323481118}, {\"created_at\": \"2014-11-30T00:00:00+00:00\", \"favorite avg\": 165.7404181184669}, {\"created_at\": \"2014-12-31T00:00:00+00:00\", \"favorite avg\": 93.07132018209408}, {\"created_at\": \"2015-01-31T00:00:00+00:00\", \"favorite avg\": 76.88471849865952}, {\"created_at\": \"2015-02-28T00:00:00+00:00\", \"favorite avg\": 138.01495726495727}, {\"created_at\": \"2015-03-31T00:00:00+00:00\", \"favorite avg\": 94.83168316831683}, {\"created_at\": \"2015-04-30T00:00:00+00:00\", \"favorite avg\": 114.41854636591479}, {\"created_at\": \"2015-05-31T00:00:00+00:00\", \"favorite avg\": 150.1103253182461}, {\"created_at\": \"2015-06-30T00:00:00+00:00\", \"favorite avg\": 349.64650283553874}, {\"created_at\": \"2015-07-31T00:00:00+00:00\", \"favorite avg\": 1151.4658227848101}, {\"created_at\": \"2015-08-31T00:00:00+00:00\", \"favorite avg\": 2875.056338028169}, {\"created_at\": \"2015-09-30T00:00:00+00:00\", \"favorite avg\": 3103.919315403423}, {\"created_at\": \"2015-10-31T00:00:00+00:00\", \"favorite avg\": 2417.339240506329}, {\"created_at\": \"2015-11-30T00:00:00+00:00\", \"favorite avg\": 3293.3368055555557}, {\"created_at\": \"2015-12-31T00:00:00+00:00\", \"favorite avg\": 4661.908629441625}, {\"created_at\": \"2016-01-31T00:00:00+00:00\", \"favorite avg\": 5731.091463414634}, {\"created_at\": \"2016-02-29T00:00:00+00:00\", \"favorite avg\": 8208.722672064778}, {\"created_at\": \"2016-03-31T00:00:00+00:00\", \"favorite avg\": 14815.274376417234}, {\"created_at\": \"2016-04-30T00:00:00+00:00\", \"favorite avg\": 13381.989436619719}, {\"created_at\": \"2016-05-31T00:00:00+00:00\", \"favorite avg\": 15340.686609686609}, {\"created_at\": \"2016-06-30T00:00:00+00:00\", \"favorite avg\": 19293.521452145214}, {\"created_at\": \"2016-07-31T00:00:00+00:00\", \"favorite avg\": 27982.632275132277}, {\"created_at\": \"2016-08-31T00:00:00+00:00\", \"favorite avg\": 21744.24}, {\"created_at\": \"2016-09-30T00:00:00+00:00\", \"favorite avg\": 24054.83108108108}, {\"created_at\": \"2016-10-31T00:00:00+00:00\", \"favorite avg\": 25639.2}, {\"created_at\": \"2016-11-30T00:00:00+00:00\", \"favorite avg\": 67714.39378238341}, {\"created_at\": \"2016-12-31T00:00:00+00:00\", \"favorite avg\": 66186.17391304347}, {\"created_at\": \"2017-01-31T00:00:00+00:00\", \"favorite avg\": 91630.7523364486}, {\"created_at\": \"2017-02-28T00:00:00+00:00\", \"favorite avg\": 109332.46753246753}, {\"created_at\": \"2017-03-31T00:00:00+00:00\", \"favorite avg\": 73858.10884353741}, {\"created_at\": \"2017-04-30T00:00:00+00:00\", \"favorite avg\": 60018.36184210526}, {\"created_at\": \"2017-05-31T00:00:00+00:00\", \"favorite avg\": 62953.3870967742}, {\"created_at\": \"2017-06-30T00:00:00+00:00\", \"favorite avg\": 71999.28301886792}, {\"created_at\": \"2017-07-31T00:00:00+00:00\", \"favorite avg\": 82023.5306122449}, {\"created_at\": \"2017-08-31T00:00:00+00:00\", \"favorite avg\": 61711.69288389513}, {\"created_at\": \"2017-09-30T00:00:00+00:00\", \"favorite avg\": 63093.98366013072}, {\"created_at\": \"2017-10-31T00:00:00+00:00\", \"favorite avg\": 66643.28620689655}, {\"created_at\": \"2017-11-30T00:00:00+00:00\", \"favorite avg\": 73557.27203065134}, {\"created_at\": \"2017-12-31T00:00:00+00:00\", \"favorite avg\": 82282.88944723619}, {\"created_at\": \"2018-01-31T00:00:00+00:00\", \"favorite avg\": 81279.33333333333}], \"data-65ce3cd453629d0e214a0ac8de7d5e06\": [{\"created_at\": \"2009-05-31T00:00:00+00:00\", \"retweet avg\": 87.66666666666667}, {\"created_at\": \"2009-06-30T00:00:00+00:00\", \"retweet avg\": 10.090909090909092}, {\"created_at\": \"2009-07-31T00:00:00+00:00\", \"retweet avg\": 6.8}, {\"created_at\": \"2009-08-31T00:00:00+00:00\", \"retweet avg\": 7.571428571428571}, {\"created_at\": \"2009-09-30T00:00:00+00:00\", \"retweet avg\": 17.333333333333332}, {\"created_at\": \"2009-10-31T00:00:00+00:00\", \"retweet avg\": 2.75}, {\"created_at\": \"2009-11-30T00:00:00+00:00\", \"retweet avg\": 8.333333333333334}, {\"created_at\": \"2009-12-31T00:00:00+00:00\", \"retweet avg\": 30.5}, {\"created_at\": \"2010-01-31T00:00:00+00:00\", \"retweet avg\": 967.0}, {\"created_at\": \"2010-02-28T00:00:00+00:00\", \"retweet avg\": 16.0}, {\"created_at\": \"2010-03-31T00:00:00+00:00\", \"retweet avg\": 21.0}, {\"created_at\": \"2010-04-30T00:00:00+00:00\", \"retweet avg\": 200.61111111111111}, {\"created_at\": \"2010-05-31T00:00:00+00:00\", \"retweet avg\": 22.529411764705884}, {\"created_at\": \"2010-06-30T00:00:00+00:00\", \"retweet avg\": 15.823529411764707}, {\"created_at\": \"2010-07-31T00:00:00+00:00\", \"retweet avg\": 27.46153846153846}, {\"created_at\": \"2010-08-31T00:00:00+00:00\", \"retweet avg\": 39.875}, {\"created_at\": \"2010-09-30T00:00:00+00:00\", \"retweet avg\": 35.38461538461539}, {\"created_at\": \"2010-10-31T00:00:00+00:00\", \"retweet avg\": 29.555555555555557}, {\"created_at\": \"2010-11-30T00:00:00+00:00\", \"retweet avg\": 32.54545454545455}, {\"created_at\": \"2010-12-31T00:00:00+00:00\", \"retweet avg\": 78.8}, {\"created_at\": \"2011-01-31T00:00:00+00:00\", \"retweet avg\": 66.33333333333333}, {\"created_at\": \"2011-02-28T00:00:00+00:00\", \"retweet avg\": 72.8125}, {\"created_at\": \"2011-03-31T00:00:00+00:00\", \"retweet avg\": 59.166666666666664}, {\"created_at\": \"2011-04-30T00:00:00+00:00\", \"retweet avg\": 42.6}, {\"created_at\": \"2011-05-31T00:00:00+00:00\", \"retweet avg\": 82.6923076923077}, {\"created_at\": \"2011-06-30T00:00:00+00:00\", \"retweet avg\": 51.875}, {\"created_at\": \"2011-07-31T00:00:00+00:00\", \"retweet avg\": 165.45205479452054}, {\"created_at\": \"2011-08-31T00:00:00+00:00\", \"retweet avg\": 274.09574468085106}, {\"created_at\": \"2011-09-30T00:00:00+00:00\", \"retweet avg\": 169.23636363636365}, {\"created_at\": \"2011-10-31T00:00:00+00:00\", \"retweet avg\": 192.5188679245283}, {\"created_at\": \"2011-11-30T00:00:00+00:00\", \"retweet avg\": 164.24107142857142}, {\"created_at\": \"2011-12-31T00:00:00+00:00\", \"retweet avg\": 238.3641304347826}, {\"created_at\": \"2012-01-31T00:00:00+00:00\", \"retweet avg\": 180.5679012345679}, {\"created_at\": \"2012-02-29T00:00:00+00:00\", \"retweet avg\": 107.04}, {\"created_at\": \"2012-03-31T00:00:00+00:00\", \"retweet avg\": 122.37853107344633}, {\"created_at\": \"2012-04-30T00:00:00+00:00\", \"retweet avg\": 140.0287356321839}, {\"created_at\": \"2012-05-31T00:00:00+00:00\", \"retweet avg\": 164.1875}, {\"created_at\": \"2012-06-30T00:00:00+00:00\", \"retweet avg\": 192.72826086956522}, {\"created_at\": \"2012-07-31T00:00:00+00:00\", \"retweet avg\": 293.2167487684729}, {\"created_at\": \"2012-08-31T00:00:00+00:00\", \"retweet avg\": 311.2762762762763}, {\"created_at\": \"2012-09-30T00:00:00+00:00\", \"retweet avg\": 408.768115942029}, {\"created_at\": \"2012-10-31T00:00:00+00:00\", \"retweet avg\": 716.2990654205607}, {\"created_at\": \"2012-11-30T00:00:00+00:00\", \"retweet avg\": 1239.7632653061225}, {\"created_at\": \"2012-12-31T00:00:00+00:00\", \"retweet avg\": 194.97043010752688}, {\"created_at\": \"2013-01-31T00:00:00+00:00\", \"retweet avg\": 212.2621359223301}, {\"created_at\": \"2013-02-28T00:00:00+00:00\", \"retweet avg\": 152.69988801791715}, {\"created_at\": \"2013-03-31T00:00:00+00:00\", \"retweet avg\": 159.53389830508473}, {\"created_at\": \"2013-04-30T00:00:00+00:00\", \"retweet avg\": 149.62749445676275}, {\"created_at\": \"2013-05-31T00:00:00+00:00\", \"retweet avg\": 247.95006402048656}, {\"created_at\": \"2013-06-30T00:00:00+00:00\", \"retweet avg\": 233.38444924406048}, {\"created_at\": \"2013-07-31T00:00:00+00:00\", \"retweet avg\": 112.81156069364162}, {\"created_at\": \"2013-08-31T00:00:00+00:00\", \"retweet avg\": 91.74162011173185}, {\"created_at\": \"2013-09-30T00:00:00+00:00\", \"retweet avg\": 166.8335809806835}, {\"created_at\": \"2013-10-31T00:00:00+00:00\", \"retweet avg\": 204.48028673835125}, {\"created_at\": \"2013-11-30T00:00:00+00:00\", \"retweet avg\": 236.3474801061008}, {\"created_at\": \"2013-12-31T00:00:00+00:00\", \"retweet avg\": 331.04336043360433}, {\"created_at\": \"2014-01-31T00:00:00+00:00\", \"retweet avg\": 193.54748603351956}, {\"created_at\": \"2014-02-28T00:00:00+00:00\", \"retweet avg\": 127.96478873239437}, {\"created_at\": \"2014-03-31T00:00:00+00:00\", \"retweet avg\": 197.973474801061}, {\"created_at\": \"2014-04-30T00:00:00+00:00\", \"retweet avg\": 98.0546875}, {\"created_at\": \"2014-05-31T00:00:00+00:00\", \"retweet avg\": 218.28021978021977}, {\"created_at\": \"2014-06-30T00:00:00+00:00\", \"retweet avg\": 127.31684491978609}, {\"created_at\": \"2014-07-31T00:00:00+00:00\", \"retweet avg\": 134.46153846153845}, {\"created_at\": \"2014-08-31T00:00:00+00:00\", \"retweet avg\": 150.44910179640718}, {\"created_at\": \"2014-09-30T00:00:00+00:00\", \"retweet avg\": 290.8430583501006}, {\"created_at\": \"2014-10-31T00:00:00+00:00\", \"retweet avg\": 210.27750410509032}, {\"created_at\": \"2014-11-30T00:00:00+00:00\", \"retweet avg\": 125.99477351916376}, {\"created_at\": \"2014-12-31T00:00:00+00:00\", \"retweet avg\": 64.99696509863429}, {\"created_at\": \"2015-01-31T00:00:00+00:00\", \"retweet avg\": 51.377122430741736}, {\"created_at\": \"2015-02-28T00:00:00+00:00\", \"retweet avg\": 106.16025641025641}, {\"created_at\": \"2015-03-31T00:00:00+00:00\", \"retweet avg\": 64.77722772277228}, {\"created_at\": \"2015-04-30T00:00:00+00:00\", \"retweet avg\": 78.83709273182957}, {\"created_at\": \"2015-05-31T00:00:00+00:00\", \"retweet avg\": 105.67185289957567}, {\"created_at\": \"2015-06-30T00:00:00+00:00\", \"retweet avg\": 196.82608695652175}, {\"created_at\": \"2015-07-31T00:00:00+00:00\", \"retweet avg\": 601.0670886075949}, {\"created_at\": \"2015-08-31T00:00:00+00:00\", \"retweet avg\": 1451.0619718309858}, {\"created_at\": \"2015-09-30T00:00:00+00:00\", \"retweet avg\": 1657.5501222493888}, {\"created_at\": \"2015-10-31T00:00:00+00:00\", \"retweet avg\": 1145.646835443038}, {\"created_at\": \"2015-11-30T00:00:00+00:00\", \"retweet avg\": 1463.578125}, {\"created_at\": \"2015-12-31T00:00:00+00:00\", \"retweet avg\": 1880.1996615905246}, {\"created_at\": \"2016-01-31T00:00:00+00:00\", \"retweet avg\": 2152.2601626016262}, {\"created_at\": \"2016-02-29T00:00:00+00:00\", \"retweet avg\": 3129.8562753036435}, {\"created_at\": \"2016-03-31T00:00:00+00:00\", \"retweet avg\": 5428.079365079365}, {\"created_at\": \"2016-04-30T00:00:00+00:00\", \"retweet avg\": 4762.9647887323945}, {\"created_at\": \"2016-05-31T00:00:00+00:00\", \"retweet avg\": 5254.982905982906}, {\"created_at\": \"2016-06-30T00:00:00+00:00\", \"retweet avg\": 7176.16501650165}, {\"created_at\": \"2016-07-31T00:00:00+00:00\", \"retweet avg\": 9515.73544973545}, {\"created_at\": \"2016-08-31T00:00:00+00:00\", \"retweet avg\": 7905.249230769231}, {\"created_at\": \"2016-09-30T00:00:00+00:00\", \"retweet avg\": 9209.442567567568}, {\"created_at\": \"2016-10-31T00:00:00+00:00\", \"retweet avg\": 11692.054716981133}, {\"created_at\": \"2016-11-30T00:00:00+00:00\", \"retweet avg\": 21997.15025906736}, {\"created_at\": \"2016-12-31T00:00:00+00:00\", \"retweet avg\": 17638.652173913044}, {\"created_at\": \"2017-01-31T00:00:00+00:00\", \"retweet avg\": 20569.52336448598}, {\"created_at\": \"2017-02-28T00:00:00+00:00\", \"retweet avg\": 23060.084415584417}, {\"created_at\": \"2017-03-31T00:00:00+00:00\", \"retweet avg\": 16917.482993197278}, {\"created_at\": \"2017-04-30T00:00:00+00:00\", \"retweet avg\": 14053.138157894737}, {\"created_at\": \"2017-05-31T00:00:00+00:00\", \"retweet avg\": 16806.393548387096}, {\"created_at\": \"2017-06-30T00:00:00+00:00\", \"retweet avg\": 19520.95754716981}, {\"created_at\": \"2017-07-31T00:00:00+00:00\", \"retweet avg\": 20992.604081632653}, {\"created_at\": \"2017-08-31T00:00:00+00:00\", \"retweet avg\": 16934.19850187266}, {\"created_at\": \"2017-09-30T00:00:00+00:00\", \"retweet avg\": 16389.90522875817}, {\"created_at\": \"2017-10-31T00:00:00+00:00\", \"retweet avg\": 16318.572413793103}, {\"created_at\": \"2017-11-30T00:00:00+00:00\", \"retweet avg\": 18983.00766283525}, {\"created_at\": \"2017-12-31T00:00:00+00:00\", \"retweet avg\": 21453.979899497488}, {\"created_at\": \"2018-01-31T00:00:00+00:00\", \"retweet avg\": 24132.666666666668}]}}, {\"mode\": \"vega-lite\"});\n",
       "</script>"
      ],
      "text/plain": [
       "alt.HConcatChart(...)"
      ]
     },
     "metadata": {},
     "output_type": "display_data"
    }
   ],
   "source": [
    "import pandas as pd\n",
    "import altair as alt \n",
    "import json\n",
    "import os\n",
    "import pandas as pd\n",
    "\n",
    "def create_tweet_sum_viz(t_count,t_rt,t_fav):\n",
    "    \"\"\"\n",
    "    10 points\n",
    "    Create the visualization shown above\n",
    "    Use the tweet_df dataframe\n",
    "    \"\"\"\n",
    "    \n",
    "    chart1 = alt.Chart(data=t_count).encode(x=\"created_at\", y=\"count\").mark_bar()\n",
    "    chart2 = alt.Chart(data=t_fav).encode(x=\"created_at\", y=\"favorite avg\").mark_bar()\n",
    "    chart3 = alt.Chart(data=t_rt).encode(x=\"created_at\", y=\"retweet avg\").mark_bar()\n",
    "    chart = chart1 | chart2 | chart3\n",
    "    \n",
    "    display(chart)\n",
    "\n",
    "df = create_tweet_df()\n",
    "t_count = create_tweet_count_df(t_df)\n",
    "t_fav = create_favorite_avg_df(t_df)\n",
    "t_rt = create_retweet_avg_df(t_df)\n",
    "create_tweet_sum_viz(t_count,t_rt,t_fav)"
   ]
  },
  {
   "cell_type": "code",
   "execution_count": 7,
   "metadata": {},
   "outputs": [],
   "source": [
    "#json.load(open(filepath).read())"
   ]
  },
  {
   "cell_type": "markdown",
   "metadata": {
    "deletable": false,
    "editable": false,
    "nbgrader": {
     "cell_type": "markdown",
     "checksum": "a1a10f99cb7ef6de40d37015c12ddbd2",
     "grade": false,
     "grade_id": "create_tweet_sum_viz_sample",
     "locked": true,
     "schema_version": 3,
     "solution": false
    }
   },
   "source": [
    "Looking at the graphs you have produced, please make observations about the tweet frequency and popularity of the former president in the cell below. (5 points)"
   ]
  },
  {
   "cell_type": "markdown",
   "metadata": {
    "deletable": false,
    "nbgrader": {
     "cell_type": "markdown",
     "checksum": "cb3180f0128c9722d19dd19e0c73b49e",
     "grade": true,
     "grade_id": "create_tweet_sum_viz_observations",
     "locked": false,
     "points": 0,
     "schema_version": 3,
     "solution": true
    }
   },
   "source": [
    "The former president tweeted a lot around 2012, during the Obama Administration, then there was a pause, and then he tweeted more around 2015, before becoming president when he was campaigning, and tweeted less after becoming president, in 2017. He was tweeting less in 2017, but getting more retweets after he became president. His average was going up, but his tweet count was doing down. "
   ]
  },
  {
   "cell_type": "code",
   "execution_count": 8,
   "metadata": {},
   "outputs": [
    {
     "data": {
      "text/plain": [
       "retweet_count                   int64\n",
       "created_at        datetime64[ns, UTC]\n",
       "text                           object\n",
       "favorited                        bool\n",
       "retweeted                        bool\n",
       "lang                           object\n",
       "favorite_count                  int64\n",
       "dtype: object"
      ]
     },
     "execution_count": 8,
     "metadata": {},
     "output_type": "execute_result"
    }
   ],
   "source": [
    "df.dtypes"
   ]
  },
  {
   "cell_type": "code",
   "execution_count": 9,
   "metadata": {
    "deletable": false,
    "nbgrader": {
     "cell_type": "code",
     "checksum": "2bad5a65ffc219fd7a1cf436b2e64335",
     "grade": false,
     "grade_id": "create_hashtag_df",
     "locked": false,
     "schema_version": 3,
     "solution": true
    }
   },
   "outputs": [],
   "source": [
    "import json\n",
    "import os\n",
    "import pandas as pd\n",
    "\n",
    "def create_hashtag_df():\n",
    "    \"\"\" \n",
    "    10 points\n",
    "    Use the json files on the folder assets/trump_data_archive/\n",
    "    The dataframe must have the following columns:\n",
    "        'text', string, the text of the hashtag\n",
    "        'created_at', datetime, the time the hashtag was tweeted\n",
    "        \n",
    "    If there is more than one hashtag for a single tweet, create one row in the\n",
    "    dataframe for each hashtag, with the same 'created_at' timestamp for all of them.\n",
    "    \n",
    "    HINT: use the 'hashtags' attribute in the 'entities' attribute of the tweets\n",
    "    \"\"\" \n",
    "    all_data = []\n",
    "    for file in sorted(os.listdir(\"assets/trump_data_archive\")):\n",
    "        if file.endswith(\"json\"):\n",
    "            filepath = os.path.join(\"assets\", \"trump_data_archive\", file)\n",
    "            data = json.load(open(filepath))\n",
    "            for tweet in data:\n",
    "                created_at = tweet[\"created_at\"]\n",
    "                for tag in tweet.get(\"entities\", {}).get('hashtags', []):\n",
    "                    all_data.append([created_at, tag[\"text\"]])\n",
    "\n",
    "    df = pd.DataFrame(all_data, columns=[\"created_at\", \"text\"])\n",
    "    df[\"created_at\"] = pd.to_datetime(df[\"created_at\"])\n",
    "    return df"
   ]
  },
  {
   "cell_type": "code",
   "execution_count": 10,
   "metadata": {
    "deletable": false,
    "editable": false,
    "nbgrader": {
     "cell_type": "code",
     "checksum": "b0d7a7b21e53bbbdb4a7146dcd3b5ada",
     "grade": true,
     "grade_id": "create_hashtag_df_text",
     "locked": true,
     "points": 10,
     "schema_version": 3,
     "solution": false
    }
   },
   "outputs": [],
   "source": [
    "import json\n",
    "import pandas as pd\n",
    "import os\n",
    "\n",
    "df = create_hashtag_df()\n",
    "df_length = 6650\n",
    "assert len(df) == df_length, \"create_hashtag_df, the length of the dataframe should be %d\" % df_length\n",
    "df_cols = ['text','created_at']\n",
    "for col_name in df_cols:\n",
    "    assert col_name in df.columns.values, \"create_hashtag_df, the column %s should be included\" % col_name\n",
    "df_pairs = 6638\n",
    "assert len(df[df_cols].drop_duplicates()) == df_pairs, \"create_hashtag_df, incorrect number of hashtag-timestamp pairs, should be %d\" % df_pairs\n"
   ]
  },
  {
   "cell_type": "code",
   "execution_count": 11,
   "metadata": {},
   "outputs": [
    {
     "data": {
      "text/plain": [
       "created_at    datetime64[ns, UTC]\n",
       "text                       object\n",
       "dtype: object"
      ]
     },
     "execution_count": 11,
     "metadata": {},
     "output_type": "execute_result"
    }
   ],
   "source": [
    "df.dtypes"
   ]
  },
  {
   "cell_type": "code",
   "execution_count": 12,
   "metadata": {
    "deletable": false,
    "nbgrader": {
     "cell_type": "code",
     "checksum": "4a9404c408565573a46a3feb7dcb7329",
     "grade": false,
     "grade_id": "most_used_hastags",
     "locked": false,
     "schema_version": 3,
     "solution": true
    }
   },
   "outputs": [],
   "source": [
    "import pandas as pd\n",
    "\n",
    "def most_used_hashtags(n, hashtag_df):\n",
    "    \"\"\"\n",
    "    15 points\n",
    "    Create a dataframe with the n most used hashtags overall and how many times they were used each month\n",
    "    The dataframe must have the following columns:\n",
    "        'hashtag', string, the text of the hastag\n",
    "        'created_at', datetime, the time the hashtag was tweeted\n",
    "        'count', int, the times the hastag was used each month\n",
    "    HINT: see note at top of notebook\n",
    "    \"\"\"\n",
    "    top_df = pd.DataFrame()\n",
    "    df = hashtag_df\n",
    "    most_used = df.groupby(by=['text']).count().reset_index()\n",
    "    most_used_list = most_used.sort_values(by=['created_at'], ascending=False).head(n)['text'].tolist()\n",
    "    df_filtered = df[df['text'].isin(most_used_list)].set_index('created_at')\n",
    "    df_filtered.index = pd.to_datetime(df_filtered.index)\n",
    "    top_df = df_filtered.groupby('text').resample('M').count()\n",
    "    top_df = top_df.rename(columns={'text':'count'}).reset_index()\n",
    "    top_df = top_df.rename(columns={'text':'hashtag'})\n",
    "    return top_df"
   ]
  },
  {
   "cell_type": "code",
   "execution_count": 13,
   "metadata": {
    "deletable": false,
    "editable": false,
    "nbgrader": {
     "cell_type": "code",
     "checksum": "e6f6cb57bc4b04a6b0cb3e2977b3ad85",
     "grade": true,
     "grade_id": "most_used_hastags_test",
     "locked": true,
     "points": 15,
     "schema_version": 3,
     "solution": false
    }
   },
   "outputs": [],
   "source": [
    "import json\n",
    "import pandas as pd\n",
    "import os\n",
    "\n",
    "df = create_hashtag_df()\n",
    "m_df = most_used_hashtags(10, df)\n",
    "df_length = 320\n",
    "assert len(m_df) == df_length, \"most_used_hashtags, the length of the dataframe should be %d\" % df_length\n",
    "df_cols = ['count','hashtag','created_at']\n",
    "for col_name in df_cols:\n",
    "    assert col_name in m_df.columns.values, \"most_used_hashtags, the column %s should be included\" % col_name"
   ]
  },
  {
   "cell_type": "code",
   "execution_count": 14,
   "metadata": {},
   "outputs": [
    {
     "data": {
      "text/html": [
       "<div>\n",
       "<style scoped>\n",
       "    .dataframe tbody tr th:only-of-type {\n",
       "        vertical-align: middle;\n",
       "    }\n",
       "\n",
       "    .dataframe tbody tr th {\n",
       "        vertical-align: top;\n",
       "    }\n",
       "\n",
       "    .dataframe thead th {\n",
       "        text-align: right;\n",
       "    }\n",
       "</style>\n",
       "<table border=\"1\" class=\"dataframe\">\n",
       "  <thead>\n",
       "    <tr style=\"text-align: right;\">\n",
       "      <th></th>\n",
       "      <th>hashtag</th>\n",
       "      <th>created_at</th>\n",
       "      <th>count</th>\n",
       "    </tr>\n",
       "  </thead>\n",
       "  <tbody>\n",
       "    <tr>\n",
       "      <th>0</th>\n",
       "      <td>AmericaFirst</td>\n",
       "      <td>2016-06-30 00:00:00+00:00</td>\n",
       "      <td>17</td>\n",
       "    </tr>\n",
       "    <tr>\n",
       "      <th>1</th>\n",
       "      <td>AmericaFirst</td>\n",
       "      <td>2016-07-31 00:00:00+00:00</td>\n",
       "      <td>18</td>\n",
       "    </tr>\n",
       "    <tr>\n",
       "      <th>2</th>\n",
       "      <td>AmericaFirst</td>\n",
       "      <td>2016-08-31 00:00:00+00:00</td>\n",
       "      <td>10</td>\n",
       "    </tr>\n",
       "    <tr>\n",
       "      <th>3</th>\n",
       "      <td>AmericaFirst</td>\n",
       "      <td>2016-09-30 00:00:00+00:00</td>\n",
       "      <td>30</td>\n",
       "    </tr>\n",
       "    <tr>\n",
       "      <th>4</th>\n",
       "      <td>AmericaFirst</td>\n",
       "      <td>2016-10-31 00:00:00+00:00</td>\n",
       "      <td>7</td>\n",
       "    </tr>\n",
       "    <tr>\n",
       "      <th>...</th>\n",
       "      <td>...</td>\n",
       "      <td>...</td>\n",
       "      <td>...</td>\n",
       "    </tr>\n",
       "    <tr>\n",
       "      <th>315</th>\n",
       "      <td>VoteTrump</td>\n",
       "      <td>2016-07-31 00:00:00+00:00</td>\n",
       "      <td>0</td>\n",
       "    </tr>\n",
       "    <tr>\n",
       "      <th>316</th>\n",
       "      <td>VoteTrump</td>\n",
       "      <td>2016-08-31 00:00:00+00:00</td>\n",
       "      <td>1</td>\n",
       "    </tr>\n",
       "    <tr>\n",
       "      <th>317</th>\n",
       "      <td>VoteTrump</td>\n",
       "      <td>2016-09-30 00:00:00+00:00</td>\n",
       "      <td>3</td>\n",
       "    </tr>\n",
       "    <tr>\n",
       "      <th>318</th>\n",
       "      <td>VoteTrump</td>\n",
       "      <td>2016-10-31 00:00:00+00:00</td>\n",
       "      <td>0</td>\n",
       "    </tr>\n",
       "    <tr>\n",
       "      <th>319</th>\n",
       "      <td>VoteTrump</td>\n",
       "      <td>2016-11-30 00:00:00+00:00</td>\n",
       "      <td>1</td>\n",
       "    </tr>\n",
       "  </tbody>\n",
       "</table>\n",
       "<p>320 rows × 3 columns</p>\n",
       "</div>"
      ],
      "text/plain": [
       "          hashtag                created_at  count\n",
       "0    AmericaFirst 2016-06-30 00:00:00+00:00     17\n",
       "1    AmericaFirst 2016-07-31 00:00:00+00:00     18\n",
       "2    AmericaFirst 2016-08-31 00:00:00+00:00     10\n",
       "3    AmericaFirst 2016-09-30 00:00:00+00:00     30\n",
       "4    AmericaFirst 2016-10-31 00:00:00+00:00      7\n",
       "..            ...                       ...    ...\n",
       "315     VoteTrump 2016-07-31 00:00:00+00:00      0\n",
       "316     VoteTrump 2016-08-31 00:00:00+00:00      1\n",
       "317     VoteTrump 2016-09-30 00:00:00+00:00      3\n",
       "318     VoteTrump 2016-10-31 00:00:00+00:00      0\n",
       "319     VoteTrump 2016-11-30 00:00:00+00:00      1\n",
       "\n",
       "[320 rows x 3 columns]"
      ]
     },
     "execution_count": 14,
     "metadata": {},
     "output_type": "execute_result"
    }
   ],
   "source": [
    "m_df"
   ]
  },
  {
   "cell_type": "markdown",
   "metadata": {
    "deletable": false,
    "editable": false,
    "nbgrader": {
     "cell_type": "markdown",
     "checksum": "590652588d80468d83e3c622da3b3a1f",
     "grade": false,
     "grade_id": "create_hashtag_viz_sample",
     "locked": true,
     "schema_version": 3,
     "solution": false
    }
   },
   "source": [
    "### Create the following visualization (15 points) and write any observations about the plot (5 points).\n",
    "<img src=\"assets/example_plot_1.png\" alt=\"Drawing\" style=\"width: 500px;\"/>"
   ]
  },
  {
   "cell_type": "code",
   "execution_count": 15,
   "metadata": {
    "deletable": false,
    "nbgrader": {
     "cell_type": "code",
     "checksum": "502d1214cb679d75689248ec63527987",
     "grade": true,
     "grade_id": "create_hashtag_viz",
     "locked": false,
     "points": 0,
     "schema_version": 3,
     "solution": true
    }
   },
   "outputs": [
    {
     "data": {
      "text/html": [
       "\n",
       "<div id=\"altair-viz-60a920ad07a843b09d691811e2743d3c\"></div>\n",
       "<script type=\"text/javascript\">\n",
       "  (function(spec, embedOpt){\n",
       "    let outputDiv = document.currentScript.previousElementSibling;\n",
       "    if (outputDiv.id !== \"altair-viz-60a920ad07a843b09d691811e2743d3c\") {\n",
       "      outputDiv = document.getElementById(\"altair-viz-60a920ad07a843b09d691811e2743d3c\");\n",
       "    }\n",
       "    const paths = {\n",
       "      \"vega\": \"https://cdn.jsdelivr.net/npm//vega@5?noext\",\n",
       "      \"vega-lib\": \"https://cdn.jsdelivr.net/npm//vega-lib?noext\",\n",
       "      \"vega-lite\": \"https://cdn.jsdelivr.net/npm//vega-lite@4.8.1?noext\",\n",
       "      \"vega-embed\": \"https://cdn.jsdelivr.net/npm//vega-embed@6?noext\",\n",
       "    };\n",
       "\n",
       "    function loadScript(lib) {\n",
       "      return new Promise(function(resolve, reject) {\n",
       "        var s = document.createElement('script');\n",
       "        s.src = paths[lib];\n",
       "        s.async = true;\n",
       "        s.onload = () => resolve(paths[lib]);\n",
       "        s.onerror = () => reject(`Error loading script: ${paths[lib]}`);\n",
       "        document.getElementsByTagName(\"head\")[0].appendChild(s);\n",
       "      });\n",
       "    }\n",
       "\n",
       "    function showError(err) {\n",
       "      outputDiv.innerHTML = `<div class=\"error\" style=\"color:red;\">${err}</div>`;\n",
       "      throw err;\n",
       "    }\n",
       "\n",
       "    function displayChart(vegaEmbed) {\n",
       "      vegaEmbed(outputDiv, spec, embedOpt)\n",
       "        .catch(err => showError(`Javascript Error: ${err.message}<br>This usually means there's a typo in your chart specification. See the javascript console for the full traceback.`));\n",
       "    }\n",
       "\n",
       "    if(typeof define === \"function\" && define.amd) {\n",
       "      requirejs.config({paths});\n",
       "      require([\"vega-embed\"], displayChart, err => showError(`Error loading script: ${err.message}`));\n",
       "    } else if (typeof vegaEmbed === \"function\") {\n",
       "      displayChart(vegaEmbed);\n",
       "    } else {\n",
       "      loadScript(\"vega\")\n",
       "        .then(() => loadScript(\"vega-lite\"))\n",
       "        .then(() => loadScript(\"vega-embed\"))\n",
       "        .catch(showError)\n",
       "        .then(() => displayChart(vegaEmbed));\n",
       "    }\n",
       "  })({\"config\": {\"view\": {\"continuousWidth\": 400, \"continuousHeight\": 300}}, \"data\": {\"name\": \"data-e6e315df2e5b0c72a944a0c2498f4dc5\"}, \"mark\": \"line\", \"encoding\": {\"color\": {\"type\": \"nominal\", \"field\": \"hashtag\"}, \"x\": {\"type\": \"temporal\", \"field\": \"created_at\"}, \"y\": {\"type\": \"quantitative\", \"field\": \"count\"}}, \"$schema\": \"https://vega.github.io/schema/vega-lite/v4.8.1.json\", \"datasets\": {\"data-e6e315df2e5b0c72a944a0c2498f4dc5\": [{\"hashtag\": \"AmericaFirst\", \"created_at\": \"2016-06-30T00:00:00+00:00\", \"count\": 17}, {\"hashtag\": \"AmericaFirst\", \"created_at\": \"2016-07-31T00:00:00+00:00\", \"count\": 18}, {\"hashtag\": \"AmericaFirst\", \"created_at\": \"2016-08-31T00:00:00+00:00\", \"count\": 10}, {\"hashtag\": \"AmericaFirst\", \"created_at\": \"2016-09-30T00:00:00+00:00\", \"count\": 30}, {\"hashtag\": \"AmericaFirst\", \"created_at\": \"2016-10-31T00:00:00+00:00\", \"count\": 7}, {\"hashtag\": \"AmericaFirst\", \"created_at\": \"2016-11-30T00:00:00+00:00\", \"count\": 2}, {\"hashtag\": \"AmericaFirst\", \"created_at\": \"2016-12-31T00:00:00+00:00\", \"count\": 1}, {\"hashtag\": \"AmericaFirst\", \"created_at\": \"2017-01-31T00:00:00+00:00\", \"count\": 1}, {\"hashtag\": \"AmericaFirst\", \"created_at\": \"2017-02-28T00:00:00+00:00\", \"count\": 0}, {\"hashtag\": \"AmericaFirst\", \"created_at\": \"2017-03-31T00:00:00+00:00\", \"count\": 1}, {\"hashtag\": \"AmericaFirst\", \"created_at\": \"2017-04-30T00:00:00+00:00\", \"count\": 3}, {\"hashtag\": \"AmericaFirst\", \"created_at\": \"2017-05-31T00:00:00+00:00\", \"count\": 0}, {\"hashtag\": \"AmericaFirst\", \"created_at\": \"2017-06-30T00:00:00+00:00\", \"count\": 4}, {\"hashtag\": \"AmericaFirst\", \"created_at\": \"2017-07-31T00:00:00+00:00\", \"count\": 1}, {\"hashtag\": \"AmericaFirst\", \"created_at\": \"2017-08-31T00:00:00+00:00\", \"count\": 1}, {\"hashtag\": \"AmericaFirst\", \"created_at\": \"2017-09-30T00:00:00+00:00\", \"count\": 2}, {\"hashtag\": \"AmericaFirst\", \"created_at\": \"2017-10-31T00:00:00+00:00\", \"count\": 1}, {\"hashtag\": \"CelebApprentice\", \"created_at\": \"2012-02-29T00:00:00+00:00\", \"count\": 2}, {\"hashtag\": \"CelebApprentice\", \"created_at\": \"2012-03-31T00:00:00+00:00\", \"count\": 5}, {\"hashtag\": \"CelebApprentice\", \"created_at\": \"2012-04-30T00:00:00+00:00\", \"count\": 5}, {\"hashtag\": \"CelebApprentice\", \"created_at\": \"2012-05-31T00:00:00+00:00\", \"count\": 0}, {\"hashtag\": \"CelebApprentice\", \"created_at\": \"2012-06-30T00:00:00+00:00\", \"count\": 1}, {\"hashtag\": \"CelebApprentice\", \"created_at\": \"2012-07-31T00:00:00+00:00\", \"count\": 0}, {\"hashtag\": \"CelebApprentice\", \"created_at\": \"2012-08-31T00:00:00+00:00\", \"count\": 0}, {\"hashtag\": \"CelebApprentice\", \"created_at\": \"2012-09-30T00:00:00+00:00\", \"count\": 0}, {\"hashtag\": \"CelebApprentice\", \"created_at\": \"2012-10-31T00:00:00+00:00\", \"count\": 0}, {\"hashtag\": \"CelebApprentice\", \"created_at\": \"2012-11-30T00:00:00+00:00\", \"count\": 0}, {\"hashtag\": \"CelebApprentice\", \"created_at\": \"2012-12-31T00:00:00+00:00\", \"count\": 0}, {\"hashtag\": \"CelebApprentice\", \"created_at\": \"2013-01-31T00:00:00+00:00\", \"count\": 0}, {\"hashtag\": \"CelebApprentice\", \"created_at\": \"2013-02-28T00:00:00+00:00\", \"count\": 0}, {\"hashtag\": \"CelebApprentice\", \"created_at\": \"2013-03-31T00:00:00+00:00\", \"count\": 52}, {\"hashtag\": \"CelebApprentice\", \"created_at\": \"2013-04-30T00:00:00+00:00\", \"count\": 76}, {\"hashtag\": \"CelebApprentice\", \"created_at\": \"2013-05-31T00:00:00+00:00\", \"count\": 5}, {\"hashtag\": \"CelebApprentice\", \"created_at\": \"2013-06-30T00:00:00+00:00\", \"count\": 0}, {\"hashtag\": \"CelebApprentice\", \"created_at\": \"2013-07-31T00:00:00+00:00\", \"count\": 0}, {\"hashtag\": \"CelebApprentice\", \"created_at\": \"2013-08-31T00:00:00+00:00\", \"count\": 0}, {\"hashtag\": \"CelebApprentice\", \"created_at\": \"2013-09-30T00:00:00+00:00\", \"count\": 1}, {\"hashtag\": \"CelebApprentice\", \"created_at\": \"2013-10-31T00:00:00+00:00\", \"count\": 0}, {\"hashtag\": \"CelebApprentice\", \"created_at\": \"2013-11-30T00:00:00+00:00\", \"count\": 1}, {\"hashtag\": \"CelebApprentice\", \"created_at\": \"2013-12-31T00:00:00+00:00\", \"count\": 0}, {\"hashtag\": \"CelebApprentice\", \"created_at\": \"2014-01-31T00:00:00+00:00\", \"count\": 0}, {\"hashtag\": \"CelebApprentice\", \"created_at\": \"2014-02-28T00:00:00+00:00\", \"count\": 1}, {\"hashtag\": \"CelebApprentice\", \"created_at\": \"2014-03-31T00:00:00+00:00\", \"count\": 0}, {\"hashtag\": \"CelebApprentice\", \"created_at\": \"2014-04-30T00:00:00+00:00\", \"count\": 1}, {\"hashtag\": \"CelebApprentice\", \"created_at\": \"2014-05-31T00:00:00+00:00\", \"count\": 0}, {\"hashtag\": \"CelebApprentice\", \"created_at\": \"2014-06-30T00:00:00+00:00\", \"count\": 0}, {\"hashtag\": \"CelebApprentice\", \"created_at\": \"2014-07-31T00:00:00+00:00\", \"count\": 0}, {\"hashtag\": \"CelebApprentice\", \"created_at\": \"2014-08-31T00:00:00+00:00\", \"count\": 0}, {\"hashtag\": \"CelebApprentice\", \"created_at\": \"2014-09-30T00:00:00+00:00\", \"count\": 0}, {\"hashtag\": \"CelebApprentice\", \"created_at\": \"2014-10-31T00:00:00+00:00\", \"count\": 0}, {\"hashtag\": \"CelebApprentice\", \"created_at\": \"2014-11-30T00:00:00+00:00\", \"count\": 0}, {\"hashtag\": \"CelebApprentice\", \"created_at\": \"2014-12-31T00:00:00+00:00\", \"count\": 2}, {\"hashtag\": \"CelebApprentice\", \"created_at\": \"2015-01-31T00:00:00+00:00\", \"count\": 118}, {\"hashtag\": \"CelebApprentice\", \"created_at\": \"2015-02-28T00:00:00+00:00\", \"count\": 19}, {\"hashtag\": \"CelebrityApprentice\", \"created_at\": \"2012-04-30T00:00:00+00:00\", \"count\": 5}, {\"hashtag\": \"CelebrityApprentice\", \"created_at\": \"2012-05-31T00:00:00+00:00\", \"count\": 9}, {\"hashtag\": \"CelebrityApprentice\", \"created_at\": \"2012-06-30T00:00:00+00:00\", \"count\": 2}, {\"hashtag\": \"CelebrityApprentice\", \"created_at\": \"2012-07-31T00:00:00+00:00\", \"count\": 0}, {\"hashtag\": \"CelebrityApprentice\", \"created_at\": \"2012-08-31T00:00:00+00:00\", \"count\": 0}, {\"hashtag\": \"CelebrityApprentice\", \"created_at\": \"2012-09-30T00:00:00+00:00\", \"count\": 0}, {\"hashtag\": \"CelebrityApprentice\", \"created_at\": \"2012-10-31T00:00:00+00:00\", \"count\": 0}, {\"hashtag\": \"CelebrityApprentice\", \"created_at\": \"2012-11-30T00:00:00+00:00\", \"count\": 0}, {\"hashtag\": \"CelebrityApprentice\", \"created_at\": \"2012-12-31T00:00:00+00:00\", \"count\": 0}, {\"hashtag\": \"CelebrityApprentice\", \"created_at\": \"2013-01-31T00:00:00+00:00\", \"count\": 0}, {\"hashtag\": \"CelebrityApprentice\", \"created_at\": \"2013-02-28T00:00:00+00:00\", \"count\": 0}, {\"hashtag\": \"CelebrityApprentice\", \"created_at\": \"2013-03-31T00:00:00+00:00\", \"count\": 0}, {\"hashtag\": \"CelebrityApprentice\", \"created_at\": \"2013-04-30T00:00:00+00:00\", \"count\": 3}, {\"hashtag\": \"CelebrityApprentice\", \"created_at\": \"2013-05-31T00:00:00+00:00\", \"count\": 0}, {\"hashtag\": \"CelebrityApprentice\", \"created_at\": \"2013-06-30T00:00:00+00:00\", \"count\": 0}, {\"hashtag\": \"CelebrityApprentice\", \"created_at\": \"2013-07-31T00:00:00+00:00\", \"count\": 0}, {\"hashtag\": \"CelebrityApprentice\", \"created_at\": \"2013-08-31T00:00:00+00:00\", \"count\": 0}, {\"hashtag\": \"CelebrityApprentice\", \"created_at\": \"2013-09-30T00:00:00+00:00\", \"count\": 0}, {\"hashtag\": \"CelebrityApprentice\", \"created_at\": \"2013-10-31T00:00:00+00:00\", \"count\": 0}, {\"hashtag\": \"CelebrityApprentice\", \"created_at\": \"2013-11-30T00:00:00+00:00\", \"count\": 0}, {\"hashtag\": \"CelebrityApprentice\", \"created_at\": \"2013-12-31T00:00:00+00:00\", \"count\": 0}, {\"hashtag\": \"CelebrityApprentice\", \"created_at\": \"2014-01-31T00:00:00+00:00\", \"count\": 0}, {\"hashtag\": \"CelebrityApprentice\", \"created_at\": \"2014-02-28T00:00:00+00:00\", \"count\": 0}, {\"hashtag\": \"CelebrityApprentice\", \"created_at\": \"2014-03-31T00:00:00+00:00\", \"count\": 4}, {\"hashtag\": \"CelebrityApprentice\", \"created_at\": \"2014-04-30T00:00:00+00:00\", \"count\": 2}, {\"hashtag\": \"CelebrityApprentice\", \"created_at\": \"2014-05-31T00:00:00+00:00\", \"count\": 0}, {\"hashtag\": \"CelebrityApprentice\", \"created_at\": \"2014-06-30T00:00:00+00:00\", \"count\": 0}, {\"hashtag\": \"CelebrityApprentice\", \"created_at\": \"2014-07-31T00:00:00+00:00\", \"count\": 0}, {\"hashtag\": \"CelebrityApprentice\", \"created_at\": \"2014-08-31T00:00:00+00:00\", \"count\": 0}, {\"hashtag\": \"CelebrityApprentice\", \"created_at\": \"2014-09-30T00:00:00+00:00\", \"count\": 0}, {\"hashtag\": \"CelebrityApprentice\", \"created_at\": \"2014-10-31T00:00:00+00:00\", \"count\": 0}, {\"hashtag\": \"CelebrityApprentice\", \"created_at\": \"2014-11-30T00:00:00+00:00\", \"count\": 4}, {\"hashtag\": \"CelebrityApprentice\", \"created_at\": \"2014-12-31T00:00:00+00:00\", \"count\": 11}, {\"hashtag\": \"CelebrityApprentice\", \"created_at\": \"2015-01-31T00:00:00+00:00\", \"count\": 64}, {\"hashtag\": \"CelebrityApprentice\", \"created_at\": \"2015-02-28T00:00:00+00:00\", \"count\": 32}, {\"hashtag\": \"CelebrityApprentice\", \"created_at\": \"2015-03-31T00:00:00+00:00\", \"count\": 1}, {\"hashtag\": \"DrainTheSwamp\", \"created_at\": \"2016-10-31T00:00:00+00:00\", \"count\": 68}, {\"hashtag\": \"DrainTheSwamp\", \"created_at\": \"2016-11-30T00:00:00+00:00\", \"count\": 10}, {\"hashtag\": \"DrainTheSwamp\", \"created_at\": \"2016-12-31T00:00:00+00:00\", \"count\": 0}, {\"hashtag\": \"DrainTheSwamp\", \"created_at\": \"2017-01-31T00:00:00+00:00\", \"count\": 0}, {\"hashtag\": \"DrainTheSwamp\", \"created_at\": \"2017-02-28T00:00:00+00:00\", \"count\": 0}, {\"hashtag\": \"DrainTheSwamp\", \"created_at\": \"2017-03-31T00:00:00+00:00\", \"count\": 0}, {\"hashtag\": \"DrainTheSwamp\", \"created_at\": \"2017-04-30T00:00:00+00:00\", \"count\": 0}, {\"hashtag\": \"DrainTheSwamp\", \"created_at\": \"2017-05-31T00:00:00+00:00\", \"count\": 1}, {\"hashtag\": \"DrainTheSwamp\", \"created_at\": \"2017-06-30T00:00:00+00:00\", \"count\": 0}, {\"hashtag\": \"DrainTheSwamp\", \"created_at\": \"2017-07-31T00:00:00+00:00\", \"count\": 0}, {\"hashtag\": \"DrainTheSwamp\", \"created_at\": \"2017-08-31T00:00:00+00:00\", \"count\": 1}, {\"hashtag\": \"MAGA\", \"created_at\": \"2016-03-31T00:00:00+00:00\", \"count\": 1}, {\"hashtag\": \"MAGA\", \"created_at\": \"2016-04-30T00:00:00+00:00\", \"count\": 2}, {\"hashtag\": \"MAGA\", \"created_at\": \"2016-05-31T00:00:00+00:00\", \"count\": 1}, {\"hashtag\": \"MAGA\", \"created_at\": \"2016-06-30T00:00:00+00:00\", \"count\": 2}, {\"hashtag\": \"MAGA\", \"created_at\": \"2016-07-31T00:00:00+00:00\", \"count\": 7}, {\"hashtag\": \"MAGA\", \"created_at\": \"2016-08-31T00:00:00+00:00\", \"count\": 19}, {\"hashtag\": \"MAGA\", \"created_at\": \"2016-09-30T00:00:00+00:00\", \"count\": 30}, {\"hashtag\": \"MAGA\", \"created_at\": \"2016-10-31T00:00:00+00:00\", \"count\": 37}, {\"hashtag\": \"MAGA\", \"created_at\": \"2016-11-30T00:00:00+00:00\", \"count\": 9}, {\"hashtag\": \"MAGA\", \"created_at\": \"2016-12-31T00:00:00+00:00\", \"count\": 3}, {\"hashtag\": \"MAGA\", \"created_at\": \"2017-01-31T00:00:00+00:00\", \"count\": 2}, {\"hashtag\": \"MAGA\", \"created_at\": \"2017-02-28T00:00:00+00:00\", \"count\": 0}, {\"hashtag\": \"MAGA\", \"created_at\": \"2017-03-31T00:00:00+00:00\", \"count\": 7}, {\"hashtag\": \"MAGA\", \"created_at\": \"2017-04-30T00:00:00+00:00\", \"count\": 0}, {\"hashtag\": \"MAGA\", \"created_at\": \"2017-05-31T00:00:00+00:00\", \"count\": 0}, {\"hashtag\": \"MAGA\", \"created_at\": \"2017-06-30T00:00:00+00:00\", \"count\": 4}, {\"hashtag\": \"MAGA\", \"created_at\": \"2017-07-31T00:00:00+00:00\", \"count\": 4}, {\"hashtag\": \"MAGA\", \"created_at\": \"2017-08-31T00:00:00+00:00\", \"count\": 9}, {\"hashtag\": \"MAGA\", \"created_at\": \"2017-09-30T00:00:00+00:00\", \"count\": 7}, {\"hashtag\": \"MAGA\", \"created_at\": \"2017-10-31T00:00:00+00:00\", \"count\": 3}, {\"hashtag\": \"MAGA\", \"created_at\": \"2017-11-30T00:00:00+00:00\", \"count\": 2}, {\"hashtag\": \"MAGA\", \"created_at\": \"2017-12-31T00:00:00+00:00\", \"count\": 3}, {\"hashtag\": \"MakeAmericaGreatAgain\", \"created_at\": \"2015-02-28T00:00:00+00:00\", \"count\": 1}, {\"hashtag\": \"MakeAmericaGreatAgain\", \"created_at\": \"2015-03-31T00:00:00+00:00\", \"count\": 0}, {\"hashtag\": \"MakeAmericaGreatAgain\", \"created_at\": \"2015-04-30T00:00:00+00:00\", \"count\": 5}, {\"hashtag\": \"MakeAmericaGreatAgain\", \"created_at\": \"2015-05-31T00:00:00+00:00\", \"count\": 7}, {\"hashtag\": \"MakeAmericaGreatAgain\", \"created_at\": \"2015-06-30T00:00:00+00:00\", \"count\": 27}, {\"hashtag\": \"MakeAmericaGreatAgain\", \"created_at\": \"2015-07-31T00:00:00+00:00\", \"count\": 38}, {\"hashtag\": \"MakeAmericaGreatAgain\", \"created_at\": \"2015-08-31T00:00:00+00:00\", \"count\": 31}, {\"hashtag\": \"MakeAmericaGreatAgain\", \"created_at\": \"2015-09-30T00:00:00+00:00\", \"count\": 19}, {\"hashtag\": \"MakeAmericaGreatAgain\", \"created_at\": \"2015-10-31T00:00:00+00:00\", \"count\": 43}, {\"hashtag\": \"MakeAmericaGreatAgain\", \"created_at\": \"2015-11-30T00:00:00+00:00\", \"count\": 45}, {\"hashtag\": \"MakeAmericaGreatAgain\", \"created_at\": \"2015-12-31T00:00:00+00:00\", \"count\": 58}, {\"hashtag\": \"MakeAmericaGreatAgain\", \"created_at\": \"2016-01-31T00:00:00+00:00\", \"count\": 34}, {\"hashtag\": \"MakeAmericaGreatAgain\", \"created_at\": \"2016-02-29T00:00:00+00:00\", \"count\": 48}, {\"hashtag\": \"MakeAmericaGreatAgain\", \"created_at\": \"2016-03-31T00:00:00+00:00\", \"count\": 49}, {\"hashtag\": \"MakeAmericaGreatAgain\", \"created_at\": \"2016-04-30T00:00:00+00:00\", \"count\": 46}, {\"hashtag\": \"MakeAmericaGreatAgain\", \"created_at\": \"2016-05-31T00:00:00+00:00\", \"count\": 24}, {\"hashtag\": \"MakeAmericaGreatAgain\", \"created_at\": \"2016-06-30T00:00:00+00:00\", \"count\": 9}, {\"hashtag\": \"MakeAmericaGreatAgain\", \"created_at\": \"2016-07-31T00:00:00+00:00\", \"count\": 12}, {\"hashtag\": \"MakeAmericaGreatAgain\", \"created_at\": \"2016-08-31T00:00:00+00:00\", \"count\": 21}, {\"hashtag\": \"MakeAmericaGreatAgain\", \"created_at\": \"2016-09-30T00:00:00+00:00\", \"count\": 12}, {\"hashtag\": \"MakeAmericaGreatAgain\", \"created_at\": \"2016-10-31T00:00:00+00:00\", \"count\": 12}, {\"hashtag\": \"MakeAmericaGreatAgain\", \"created_at\": \"2016-11-30T00:00:00+00:00\", \"count\": 5}, {\"hashtag\": \"MakeAmericaGreatAgain\", \"created_at\": \"2016-12-31T00:00:00+00:00\", \"count\": 1}, {\"hashtag\": \"MakeAmericaGreatAgain\", \"created_at\": \"2017-01-31T00:00:00+00:00\", \"count\": 0}, {\"hashtag\": \"MakeAmericaGreatAgain\", \"created_at\": \"2017-02-28T00:00:00+00:00\", \"count\": 0}, {\"hashtag\": \"MakeAmericaGreatAgain\", \"created_at\": \"2017-03-31T00:00:00+00:00\", \"count\": 1}, {\"hashtag\": \"MakeAmericaGreatAgain\", \"created_at\": \"2017-04-30T00:00:00+00:00\", \"count\": 0}, {\"hashtag\": \"MakeAmericaGreatAgain\", \"created_at\": \"2017-05-31T00:00:00+00:00\", \"count\": 0}, {\"hashtag\": \"MakeAmericaGreatAgain\", \"created_at\": \"2017-06-30T00:00:00+00:00\", \"count\": 2}, {\"hashtag\": \"MakeAmericaGreatAgain\", \"created_at\": \"2017-07-31T00:00:00+00:00\", \"count\": 1}, {\"hashtag\": \"MakeAmericaGreatAgain\", \"created_at\": \"2017-08-31T00:00:00+00:00\", \"count\": 1}, {\"hashtag\": \"MakeAmericaGreatAgain\", \"created_at\": \"2017-09-30T00:00:00+00:00\", \"count\": 1}, {\"hashtag\": \"MakeAmericaGreatAgain\", \"created_at\": \"2017-10-31T00:00:00+00:00\", \"count\": 1}, {\"hashtag\": \"MakeAmericaGreatAgain\", \"created_at\": \"2017-11-30T00:00:00+00:00\", \"count\": 2}, {\"hashtag\": \"MakeAmericaGreatAgain\", \"created_at\": \"2017-12-31T00:00:00+00:00\", \"count\": 1}, {\"hashtag\": \"TimeToGetTough\", \"created_at\": \"2011-11-30T00:00:00+00:00\", \"count\": 12}, {\"hashtag\": \"TimeToGetTough\", \"created_at\": \"2011-12-31T00:00:00+00:00\", \"count\": 48}, {\"hashtag\": \"TimeToGetTough\", \"created_at\": \"2012-01-31T00:00:00+00:00\", \"count\": 20}, {\"hashtag\": \"TimeToGetTough\", \"created_at\": \"2012-02-29T00:00:00+00:00\", \"count\": 7}, {\"hashtag\": \"TimeToGetTough\", \"created_at\": \"2012-03-31T00:00:00+00:00\", \"count\": 1}, {\"hashtag\": \"TimeToGetTough\", \"created_at\": \"2012-04-30T00:00:00+00:00\", \"count\": 1}, {\"hashtag\": \"TimeToGetTough\", \"created_at\": \"2012-05-31T00:00:00+00:00\", \"count\": 0}, {\"hashtag\": \"TimeToGetTough\", \"created_at\": \"2012-06-30T00:00:00+00:00\", \"count\": 0}, {\"hashtag\": \"TimeToGetTough\", \"created_at\": \"2012-07-31T00:00:00+00:00\", \"count\": 0}, {\"hashtag\": \"TimeToGetTough\", \"created_at\": \"2012-08-31T00:00:00+00:00\", \"count\": 1}, {\"hashtag\": \"TimeToGetTough\", \"created_at\": \"2012-09-30T00:00:00+00:00\", \"count\": 2}, {\"hashtag\": \"TimeToGetTough\", \"created_at\": \"2012-10-31T00:00:00+00:00\", \"count\": 1}, {\"hashtag\": \"TimeToGetTough\", \"created_at\": \"2012-11-30T00:00:00+00:00\", \"count\": 0}, {\"hashtag\": \"TimeToGetTough\", \"created_at\": \"2012-12-31T00:00:00+00:00\", \"count\": 0}, {\"hashtag\": \"TimeToGetTough\", \"created_at\": \"2013-01-31T00:00:00+00:00\", \"count\": 0}, {\"hashtag\": \"TimeToGetTough\", \"created_at\": \"2013-02-28T00:00:00+00:00\", \"count\": 0}, {\"hashtag\": \"TimeToGetTough\", \"created_at\": \"2013-03-31T00:00:00+00:00\", \"count\": 0}, {\"hashtag\": \"TimeToGetTough\", \"created_at\": \"2013-04-30T00:00:00+00:00\", \"count\": 0}, {\"hashtag\": \"TimeToGetTough\", \"created_at\": \"2013-05-31T00:00:00+00:00\", \"count\": 0}, {\"hashtag\": \"TimeToGetTough\", \"created_at\": \"2013-06-30T00:00:00+00:00\", \"count\": 0}, {\"hashtag\": \"TimeToGetTough\", \"created_at\": \"2013-07-31T00:00:00+00:00\", \"count\": 0}, {\"hashtag\": \"TimeToGetTough\", \"created_at\": \"2013-08-31T00:00:00+00:00\", \"count\": 0}, {\"hashtag\": \"TimeToGetTough\", \"created_at\": \"2013-09-30T00:00:00+00:00\", \"count\": 0}, {\"hashtag\": \"TimeToGetTough\", \"created_at\": \"2013-10-31T00:00:00+00:00\", \"count\": 0}, {\"hashtag\": \"TimeToGetTough\", \"created_at\": \"2013-11-30T00:00:00+00:00\", \"count\": 0}, {\"hashtag\": \"TimeToGetTough\", \"created_at\": \"2013-12-31T00:00:00+00:00\", \"count\": 0}, {\"hashtag\": \"TimeToGetTough\", \"created_at\": \"2014-01-31T00:00:00+00:00\", \"count\": 0}, {\"hashtag\": \"TimeToGetTough\", \"created_at\": \"2014-02-28T00:00:00+00:00\", \"count\": 0}, {\"hashtag\": \"TimeToGetTough\", \"created_at\": \"2014-03-31T00:00:00+00:00\", \"count\": 0}, {\"hashtag\": \"TimeToGetTough\", \"created_at\": \"2014-04-30T00:00:00+00:00\", \"count\": 0}, {\"hashtag\": \"TimeToGetTough\", \"created_at\": \"2014-05-31T00:00:00+00:00\", \"count\": 0}, {\"hashtag\": \"TimeToGetTough\", \"created_at\": \"2014-06-30T00:00:00+00:00\", \"count\": 0}, {\"hashtag\": \"TimeToGetTough\", \"created_at\": \"2014-07-31T00:00:00+00:00\", \"count\": 0}, {\"hashtag\": \"TimeToGetTough\", \"created_at\": \"2014-08-31T00:00:00+00:00\", \"count\": 0}, {\"hashtag\": \"TimeToGetTough\", \"created_at\": \"2014-09-30T00:00:00+00:00\", \"count\": 0}, {\"hashtag\": \"TimeToGetTough\", \"created_at\": \"2014-10-31T00:00:00+00:00\", \"count\": 0}, {\"hashtag\": \"TimeToGetTough\", \"created_at\": \"2014-11-30T00:00:00+00:00\", \"count\": 0}, {\"hashtag\": \"TimeToGetTough\", \"created_at\": \"2014-12-31T00:00:00+00:00\", \"count\": 0}, {\"hashtag\": \"TimeToGetTough\", \"created_at\": \"2015-01-31T00:00:00+00:00\", \"count\": 0}, {\"hashtag\": \"TimeToGetTough\", \"created_at\": \"2015-02-28T00:00:00+00:00\", \"count\": 0}, {\"hashtag\": \"TimeToGetTough\", \"created_at\": \"2015-03-31T00:00:00+00:00\", \"count\": 0}, {\"hashtag\": \"TimeToGetTough\", \"created_at\": \"2015-04-30T00:00:00+00:00\", \"count\": 1}, {\"hashtag\": \"TimeToGetTough\", \"created_at\": \"2015-05-31T00:00:00+00:00\", \"count\": 2}, {\"hashtag\": \"Trump\", \"created_at\": \"2012-09-30T00:00:00+00:00\", \"count\": 2}, {\"hashtag\": \"Trump\", \"created_at\": \"2012-10-31T00:00:00+00:00\", \"count\": 0}, {\"hashtag\": \"Trump\", \"created_at\": \"2012-11-30T00:00:00+00:00\", \"count\": 0}, {\"hashtag\": \"Trump\", \"created_at\": \"2012-12-31T00:00:00+00:00\", \"count\": 0}, {\"hashtag\": \"Trump\", \"created_at\": \"2013-01-31T00:00:00+00:00\", \"count\": 0}, {\"hashtag\": \"Trump\", \"created_at\": \"2013-02-28T00:00:00+00:00\", \"count\": 0}, {\"hashtag\": \"Trump\", \"created_at\": \"2013-03-31T00:00:00+00:00\", \"count\": 1}, {\"hashtag\": \"Trump\", \"created_at\": \"2013-04-30T00:00:00+00:00\", \"count\": 2}, {\"hashtag\": \"Trump\", \"created_at\": \"2013-05-31T00:00:00+00:00\", \"count\": 0}, {\"hashtag\": \"Trump\", \"created_at\": \"2013-06-30T00:00:00+00:00\", \"count\": 0}, {\"hashtag\": \"Trump\", \"created_at\": \"2013-07-31T00:00:00+00:00\", \"count\": 0}, {\"hashtag\": \"Trump\", \"created_at\": \"2013-08-31T00:00:00+00:00\", \"count\": 3}, {\"hashtag\": \"Trump\", \"created_at\": \"2013-09-30T00:00:00+00:00\", \"count\": 0}, {\"hashtag\": \"Trump\", \"created_at\": \"2013-10-31T00:00:00+00:00\", \"count\": 2}, {\"hashtag\": \"Trump\", \"created_at\": \"2013-11-30T00:00:00+00:00\", \"count\": 0}, {\"hashtag\": \"Trump\", \"created_at\": \"2013-12-31T00:00:00+00:00\", \"count\": 0}, {\"hashtag\": \"Trump\", \"created_at\": \"2014-01-31T00:00:00+00:00\", \"count\": 0}, {\"hashtag\": \"Trump\", \"created_at\": \"2014-02-28T00:00:00+00:00\", \"count\": 1}, {\"hashtag\": \"Trump\", \"created_at\": \"2014-03-31T00:00:00+00:00\", \"count\": 1}, {\"hashtag\": \"Trump\", \"created_at\": \"2014-04-30T00:00:00+00:00\", \"count\": 0}, {\"hashtag\": \"Trump\", \"created_at\": \"2014-05-31T00:00:00+00:00\", \"count\": 1}, {\"hashtag\": \"Trump\", \"created_at\": \"2014-06-30T00:00:00+00:00\", \"count\": 3}, {\"hashtag\": \"Trump\", \"created_at\": \"2014-07-31T00:00:00+00:00\", \"count\": 3}, {\"hashtag\": \"Trump\", \"created_at\": \"2014-08-31T00:00:00+00:00\", \"count\": 1}, {\"hashtag\": \"Trump\", \"created_at\": \"2014-09-30T00:00:00+00:00\", \"count\": 1}, {\"hashtag\": \"Trump\", \"created_at\": \"2014-10-31T00:00:00+00:00\", \"count\": 1}, {\"hashtag\": \"Trump\", \"created_at\": \"2014-11-30T00:00:00+00:00\", \"count\": 2}, {\"hashtag\": \"Trump\", \"created_at\": \"2014-12-31T00:00:00+00:00\", \"count\": 1}, {\"hashtag\": \"Trump\", \"created_at\": \"2015-01-31T00:00:00+00:00\", \"count\": 0}, {\"hashtag\": \"Trump\", \"created_at\": \"2015-02-28T00:00:00+00:00\", \"count\": 1}, {\"hashtag\": \"Trump\", \"created_at\": \"2015-03-31T00:00:00+00:00\", \"count\": 1}, {\"hashtag\": \"Trump\", \"created_at\": \"2015-04-30T00:00:00+00:00\", \"count\": 4}, {\"hashtag\": \"Trump\", \"created_at\": \"2015-05-31T00:00:00+00:00\", \"count\": 0}, {\"hashtag\": \"Trump\", \"created_at\": \"2015-06-30T00:00:00+00:00\", \"count\": 1}, {\"hashtag\": \"Trump\", \"created_at\": \"2015-07-31T00:00:00+00:00\", \"count\": 6}, {\"hashtag\": \"Trump\", \"created_at\": \"2015-08-31T00:00:00+00:00\", \"count\": 4}, {\"hashtag\": \"Trump\", \"created_at\": \"2015-09-30T00:00:00+00:00\", \"count\": 2}, {\"hashtag\": \"Trump\", \"created_at\": \"2015-10-31T00:00:00+00:00\", \"count\": 9}, {\"hashtag\": \"Trump\", \"created_at\": \"2015-11-30T00:00:00+00:00\", \"count\": 3}, {\"hashtag\": \"Trump\", \"created_at\": \"2015-12-31T00:00:00+00:00\", \"count\": 5}, {\"hashtag\": \"Trump\", \"created_at\": \"2016-01-31T00:00:00+00:00\", \"count\": 1}, {\"hashtag\": \"Trump\", \"created_at\": \"2016-02-29T00:00:00+00:00\", \"count\": 1}, {\"hashtag\": \"Trump\", \"created_at\": \"2016-03-31T00:00:00+00:00\", \"count\": 2}, {\"hashtag\": \"Trump\", \"created_at\": \"2016-04-30T00:00:00+00:00\", \"count\": 0}, {\"hashtag\": \"Trump\", \"created_at\": \"2016-05-31T00:00:00+00:00\", \"count\": 1}, {\"hashtag\": \"Trump\", \"created_at\": \"2016-06-30T00:00:00+00:00\", \"count\": 2}, {\"hashtag\": \"Trump\", \"created_at\": \"2016-07-31T00:00:00+00:00\", \"count\": 0}, {\"hashtag\": \"Trump\", \"created_at\": \"2016-08-31T00:00:00+00:00\", \"count\": 0}, {\"hashtag\": \"Trump\", \"created_at\": \"2016-09-30T00:00:00+00:00\", \"count\": 0}, {\"hashtag\": \"Trump\", \"created_at\": \"2016-10-31T00:00:00+00:00\", \"count\": 1}, {\"hashtag\": \"Trump\", \"created_at\": \"2016-11-30T00:00:00+00:00\", \"count\": 0}, {\"hashtag\": \"Trump\", \"created_at\": \"2016-12-31T00:00:00+00:00\", \"count\": 0}, {\"hashtag\": \"Trump\", \"created_at\": \"2017-01-31T00:00:00+00:00\", \"count\": 0}, {\"hashtag\": \"Trump\", \"created_at\": \"2017-02-28T00:00:00+00:00\", \"count\": 0}, {\"hashtag\": \"Trump\", \"created_at\": \"2017-03-31T00:00:00+00:00\", \"count\": 0}, {\"hashtag\": \"Trump\", \"created_at\": \"2017-04-30T00:00:00+00:00\", \"count\": 1}, {\"hashtag\": \"Trump2016\", \"created_at\": \"2013-02-28T00:00:00+00:00\", \"count\": 1}, {\"hashtag\": \"Trump2016\", \"created_at\": \"2013-03-31T00:00:00+00:00\", \"count\": 1}, {\"hashtag\": \"Trump2016\", \"created_at\": \"2013-04-30T00:00:00+00:00\", \"count\": 2}, {\"hashtag\": \"Trump2016\", \"created_at\": \"2013-05-31T00:00:00+00:00\", \"count\": 1}, {\"hashtag\": \"Trump2016\", \"created_at\": \"2013-06-30T00:00:00+00:00\", \"count\": 2}, {\"hashtag\": \"Trump2016\", \"created_at\": \"2013-07-31T00:00:00+00:00\", \"count\": 2}, {\"hashtag\": \"Trump2016\", \"created_at\": \"2013-08-31T00:00:00+00:00\", \"count\": 7}, {\"hashtag\": \"Trump2016\", \"created_at\": \"2013-09-30T00:00:00+00:00\", \"count\": 1}, {\"hashtag\": \"Trump2016\", \"created_at\": \"2013-10-31T00:00:00+00:00\", \"count\": 3}, {\"hashtag\": \"Trump2016\", \"created_at\": \"2013-11-30T00:00:00+00:00\", \"count\": 3}, {\"hashtag\": \"Trump2016\", \"created_at\": \"2013-12-31T00:00:00+00:00\", \"count\": 0}, {\"hashtag\": \"Trump2016\", \"created_at\": \"2014-01-31T00:00:00+00:00\", \"count\": 3}, {\"hashtag\": \"Trump2016\", \"created_at\": \"2014-02-28T00:00:00+00:00\", \"count\": 3}, {\"hashtag\": \"Trump2016\", \"created_at\": \"2014-03-31T00:00:00+00:00\", \"count\": 6}, {\"hashtag\": \"Trump2016\", \"created_at\": \"2014-04-30T00:00:00+00:00\", \"count\": 0}, {\"hashtag\": \"Trump2016\", \"created_at\": \"2014-05-31T00:00:00+00:00\", \"count\": 1}, {\"hashtag\": \"Trump2016\", \"created_at\": \"2014-06-30T00:00:00+00:00\", \"count\": 12}, {\"hashtag\": \"Trump2016\", \"created_at\": \"2014-07-31T00:00:00+00:00\", \"count\": 2}, {\"hashtag\": \"Trump2016\", \"created_at\": \"2014-08-31T00:00:00+00:00\", \"count\": 1}, {\"hashtag\": \"Trump2016\", \"created_at\": \"2014-09-30T00:00:00+00:00\", \"count\": 6}, {\"hashtag\": \"Trump2016\", \"created_at\": \"2014-10-31T00:00:00+00:00\", \"count\": 16}, {\"hashtag\": \"Trump2016\", \"created_at\": \"2014-11-30T00:00:00+00:00\", \"count\": 15}, {\"hashtag\": \"Trump2016\", \"created_at\": \"2014-12-31T00:00:00+00:00\", \"count\": 18}, {\"hashtag\": \"Trump2016\", \"created_at\": \"2015-01-31T00:00:00+00:00\", \"count\": 5}, {\"hashtag\": \"Trump2016\", \"created_at\": \"2015-02-28T00:00:00+00:00\", \"count\": 5}, {\"hashtag\": \"Trump2016\", \"created_at\": \"2015-03-31T00:00:00+00:00\", \"count\": 16}, {\"hashtag\": \"Trump2016\", \"created_at\": \"2015-04-30T00:00:00+00:00\", \"count\": 57}, {\"hashtag\": \"Trump2016\", \"created_at\": \"2015-05-31T00:00:00+00:00\", \"count\": 33}, {\"hashtag\": \"Trump2016\", \"created_at\": \"2015-06-30T00:00:00+00:00\", \"count\": 35}, {\"hashtag\": \"Trump2016\", \"created_at\": \"2015-07-31T00:00:00+00:00\", \"count\": 32}, {\"hashtag\": \"Trump2016\", \"created_at\": \"2015-08-31T00:00:00+00:00\", \"count\": 15}, {\"hashtag\": \"Trump2016\", \"created_at\": \"2015-09-30T00:00:00+00:00\", \"count\": 19}, {\"hashtag\": \"Trump2016\", \"created_at\": \"2015-10-31T00:00:00+00:00\", \"count\": 40}, {\"hashtag\": \"Trump2016\", \"created_at\": \"2015-11-30T00:00:00+00:00\", \"count\": 65}, {\"hashtag\": \"Trump2016\", \"created_at\": \"2015-12-31T00:00:00+00:00\", \"count\": 70}, {\"hashtag\": \"Trump2016\", \"created_at\": \"2016-01-31T00:00:00+00:00\", \"count\": 66}, {\"hashtag\": \"Trump2016\", \"created_at\": \"2016-02-29T00:00:00+00:00\", \"count\": 52}, {\"hashtag\": \"Trump2016\", \"created_at\": \"2016-03-31T00:00:00+00:00\", \"count\": 70}, {\"hashtag\": \"Trump2016\", \"created_at\": \"2016-04-30T00:00:00+00:00\", \"count\": 68}, {\"hashtag\": \"Trump2016\", \"created_at\": \"2016-05-31T00:00:00+00:00\", \"count\": 46}, {\"hashtag\": \"Trump2016\", \"created_at\": \"2016-06-30T00:00:00+00:00\", \"count\": 30}, {\"hashtag\": \"Trump2016\", \"created_at\": \"2016-07-31T00:00:00+00:00\", \"count\": 11}, {\"hashtag\": \"VoteTrump\", \"created_at\": \"2015-03-31T00:00:00+00:00\", \"count\": 2}, {\"hashtag\": \"VoteTrump\", \"created_at\": \"2015-04-30T00:00:00+00:00\", \"count\": 0}, {\"hashtag\": \"VoteTrump\", \"created_at\": \"2015-05-31T00:00:00+00:00\", \"count\": 0}, {\"hashtag\": \"VoteTrump\", \"created_at\": \"2015-06-30T00:00:00+00:00\", \"count\": 0}, {\"hashtag\": \"VoteTrump\", \"created_at\": \"2015-07-31T00:00:00+00:00\", \"count\": 1}, {\"hashtag\": \"VoteTrump\", \"created_at\": \"2015-08-31T00:00:00+00:00\", \"count\": 1}, {\"hashtag\": \"VoteTrump\", \"created_at\": \"2015-09-30T00:00:00+00:00\", \"count\": 0}, {\"hashtag\": \"VoteTrump\", \"created_at\": \"2015-10-31T00:00:00+00:00\", \"count\": 1}, {\"hashtag\": \"VoteTrump\", \"created_at\": \"2015-11-30T00:00:00+00:00\", \"count\": 0}, {\"hashtag\": \"VoteTrump\", \"created_at\": \"2015-12-31T00:00:00+00:00\", \"count\": 0}, {\"hashtag\": \"VoteTrump\", \"created_at\": \"2016-01-31T00:00:00+00:00\", \"count\": 11}, {\"hashtag\": \"VoteTrump\", \"created_at\": \"2016-02-29T00:00:00+00:00\", \"count\": 8}, {\"hashtag\": \"VoteTrump\", \"created_at\": \"2016-03-31T00:00:00+00:00\", \"count\": 21}, {\"hashtag\": \"VoteTrump\", \"created_at\": \"2016-04-30T00:00:00+00:00\", \"count\": 11}, {\"hashtag\": \"VoteTrump\", \"created_at\": \"2016-05-31T00:00:00+00:00\", \"count\": 12}, {\"hashtag\": \"VoteTrump\", \"created_at\": \"2016-06-30T00:00:00+00:00\", \"count\": 0}, {\"hashtag\": \"VoteTrump\", \"created_at\": \"2016-07-31T00:00:00+00:00\", \"count\": 0}, {\"hashtag\": \"VoteTrump\", \"created_at\": \"2016-08-31T00:00:00+00:00\", \"count\": 1}, {\"hashtag\": \"VoteTrump\", \"created_at\": \"2016-09-30T00:00:00+00:00\", \"count\": 3}, {\"hashtag\": \"VoteTrump\", \"created_at\": \"2016-10-31T00:00:00+00:00\", \"count\": 0}, {\"hashtag\": \"VoteTrump\", \"created_at\": \"2016-11-30T00:00:00+00:00\", \"count\": 1}]}}, {\"mode\": \"vega-lite\"});\n",
       "</script>"
      ],
      "text/plain": [
       "alt.Chart(...)"
      ]
     },
     "execution_count": 15,
     "metadata": {},
     "output_type": "execute_result"
    }
   ],
   "source": [
    "import pandas as pd\n",
    "import altair as alt \n",
    "import json\n",
    "import os\n",
    "import pandas as pd\n",
    "\n",
    "def create_hashtag_viz(most_used_hashtags):\n",
    "    \"\"\"\n",
    "    15 points\n",
    "    Create the visualization shown above using the top 10 hashtags\n",
    "    Use the most_used_hashtags dataframe\n",
    "    \"\"\"\n",
    "    \n",
    "    chart = alt.Chart(m_df.rename(columns={\"text\":\"hashtag\"})).mark_line().encode(x=\"created_at\", y=\"count\", color=\"hashtag\")\n",
    "    return chart\n",
    "\n",
    "df = create_hashtag_df()\n",
    "m_df = most_used_hashtags(10, df)\n",
    "create_hashtag_viz(m_df)"
   ]
  },
  {
   "cell_type": "markdown",
   "metadata": {
    "deletable": false,
    "nbgrader": {
     "cell_type": "markdown",
     "checksum": "e597593fb331734cf275d63584abfca9",
     "grade": true,
     "grade_id": "create_hashtag_viz_observations",
     "locked": false,
     "points": 0,
     "schema_version": 3,
     "solution": true
    }
   },
   "source": [
    "It seems that 'CelebApprentice' was the most popular, when the show was popular and right when Trump started to campaign for presidency. The hashtags 'Trump2016' and 'MakeAmericaGreatAgain' seemed to be pretty well for about a year, until he became president in 2017. After he became president, all hashtags except 'DrainTheSwamp'(which barely lasted) pretty much went downhill or were almost nonexistent. The hashtag 'Trump\" never really took off the whole time from 2012 to 2017. "
   ]
  },
  {
   "cell_type": "markdown",
   "metadata": {
    "deletable": false,
    "editable": false,
    "nbgrader": {
     "cell_type": "markdown",
     "checksum": "66ed32c4e823b94115b556cf9ac48d75",
     "grade": false,
     "grade_id": "cell-28e8d48bd6af7077",
     "locked": true,
     "schema_version": 3,
     "solution": false
    }
   },
   "source": [
    "### Create the following visualization (15 points) and write any observations about the plot (5 points) relating to the seasonal decomposition of tweet count.\n",
    "<img src=\"assets/example_plot_3_a.png\" alt=\"Drawing\" style=\"width: 500px;\"/>\n",
    "<img src=\"assets/example_plot_3_b.png\" alt=\"Drawing\" style=\"width: 500px;\"/>"
   ]
  },
  {
   "cell_type": "code",
   "execution_count": 16,
   "metadata": {
    "deletable": false,
    "nbgrader": {
     "cell_type": "code",
     "checksum": "2b36366e0d2162438cb9bbb08d8e0ae3",
     "grade": true,
     "grade_id": "create_seasonal_decompose_plot",
     "locked": false,
     "points": 0,
     "schema_version": 3,
     "solution": true
    }
   },
   "outputs": [
    {
     "data": {
      "image/png": "[encoded data removed]",
      "text/plain": [
       "<Figure size 432x288 with 4 Axes>"
      ]
     },
     "metadata": {
      "needs_background": "light"
     },
     "output_type": "display_data"
    },
    {
     "data": {
      "image/png": "[encoded data removed]",
      "text/plain": [
       "<Figure size 432x288 with 4 Axes>"
      ]
     },
     "metadata": {
      "needs_background": "light"
     },
     "output_type": "display_data"
    }
   ],
   "source": [
    "from statsmodels.tsa.seasonal import seasonal_decompose\n",
    "import matplotlib.pyplot as plt\n",
    "\n",
    "def create_seasonal_decompose_plot(t_count):\n",
    "    \"\"\"\n",
    "    15 points\n",
    "    Create a visualization for the seasonal decomposition of the twitter count series\n",
    "    Create a plot for a decomposition using a multiplicative and a plot for a decomposition using an additive model\n",
    "    Use the seasonal_decompose function of statsmodels.tsa.seasonal to decompose and the plot\n",
    "    method of the resulting object\n",
    "    \"\"\"\n",
    "s = t_count.set_index('created_at')\n",
    "\n",
    "seasonal_decompose(s, model='multiplicative').plot()\n",
    "seasonal_decompose(s, model='additive').plot()\n",
    "plt.show()"
   ]
  },
  {
   "cell_type": "markdown",
   "metadata": {
    "deletable": false,
    "nbgrader": {
     "cell_type": "markdown",
     "checksum": "837e4ea1f9c936db6cda74befdabff6a",
     "grade": true,
     "grade_id": "create_seasonal_decompose_plot_observations",
     "locked": false,
     "points": 0,
     "schema_version": 3,
     "solution": true
    }
   },
   "source": [
    "I think when the seasonal variation is pretty stable over a period of time, the additive model is useful. And I think when the seasonal variation is increasing over a period of time, the multiplicative model is useful. The seasonal multiplicative model is not increasing, it seems to be pretty much the same every year, so might not be very useful. The seasonal additive model is pretty stable and smilimar every year, so seems to be very useful.  "
   ]
  }
 ],
 "metadata": {
  "coursera": {
   "schema_names": [
    "mads_social_media_analytics_v2_assignment2"
   ]
  },
  "kernelspec": {
   "display_name": "Python 3 (ipykernel)",
   "language": "python",
   "name": "python3"
  },
  "language_info": {
   "codemirror_mode": {
    "name": "ipython",
    "version": 3
   },
   "file_extension": ".py",
   "mimetype": "text/x-python",
   "name": "python",
   "nbconvert_exporter": "python",
   "pygments_lexer": "ipython3",
   "version": "3.8.10"
  }
 },
 "nbformat": 4,
 "nbformat_minor": 4
}
