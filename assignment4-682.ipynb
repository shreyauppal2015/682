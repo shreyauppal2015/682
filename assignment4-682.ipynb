{
 "cells": [
  {
   "cell_type": "markdown",
   "metadata": {
    "deletable": false,
    "editable": false,
    "nbgrader": {
     "cell_type": "markdown",
     "checksum": "997e39c86266d8c00bbfd1e50ba927a0",
     "grade": false,
     "grade_id": "cell-f5b1fb55d1a14591",
     "locked": true,
     "schema_version": 3,
     "solution": false
    }
   },
   "source": [
    "# Social Media Analytics\n",
    "## School of Information, University of Michigan\n",
    "\n",
    "## Week 4: Social Media Text\n",
    " \n",
    "- Text sentiment analysis and topic modeling in social media\n",
    "\n",
    "## Assignment Overview\n",
    "### The objective  of this assignment is to:\n",
    "\n",
    "- Compute the topics discussed in a social media corpus over time\n",
    "- Compute sentiment in a social media corpus over time\n",
    "\n",
    "### The total score of this assignment will be 100 points consisting of:\n",
    "\n",
    "- `clean_tokenize_text` function: 5 points\n",
    "- interpretation of why custom stop words are needed: 5 points\n",
    "- `append_bigrams` function: 10 points\n",
    "- `find_topics` function: 10 points\n",
    "- `calculate_avg_coherence` function: 10 points\n",
    "- `plot_coherences_topics` function: 10 points\n",
    "- interpretation for measuring coherence: 5 points\n",
    "- `plot_topics_per_year` function: 10 points\n",
    "- observations about topics over time: 5 points\n",
    "- `plot_most_popular_topics` function: 10 points\n",
    "- observations about the most popular topics: 5 points\n",
    "- `plot_sentiment_over_time` function: 10 points\n",
    "- observations about tweet sentiment: 5 points\n",
    "\n",
    "## Instructions\n",
    "In this assignment, you will use the provided tweet corpus to compute and plot metrics based on the text of tweets. You will also create visualizations and interpret the data. \n",
    "\n",
    "### Resources:\n",
    "\n",
    "- [Tweepy API documentation](https://tweepy.readthedocs.io/en/latest/) \n",
    "- [Trump tweet corpus](https://www.thetrumparchive.com/) \n",
    "- [Gensim API documentation](https://radimrehurek.com/gensim/apiref.html)\n",
    "- [VADER documentation](https://github.com/cjhutto/vaderSentiment)\n",
    "- [Seaborn documentation](https://seaborn.pydata.org/)\n"
   ]
  },
  {
   "cell_type": "markdown",
   "metadata": {
    "deletable": false,
    "editable": false,
    "nbgrader": {
     "cell_type": "markdown",
     "checksum": "154198a9d6711d0819572302a001ed57",
     "grade": false,
     "grade_id": "cell-4dd3358c0f99cbe6",
     "locked": true,
     "schema_version": 3,
     "solution": false,
     "task": false
    }
   },
   "source": [
    "## Create a function to clean and tokenize the text\n",
    "*We suggest following the instructions below as closely as possible to match the sample output, though we also note that it is possible to vary slightly from the sample provided and still pass the autograder and recieve full credit for the charts below.*\n",
    "\n",
    "<img src=\"assets/clean_tokenize_text_example.png\"  style=\"width: 500px;\"/>"
   ]
  },
  {
   "cell_type": "code",
   "execution_count": 1,
   "metadata": {
    "deletable": false,
    "nbgrader": {
     "cell_type": "code",
     "checksum": "c379183f264f26d87a67215b6285dcaa",
     "grade": false,
     "grade_id": "clean_tokenize_text",
     "locked": false,
     "schema_version": 3,
     "solution": true
    }
   },
   "outputs": [
    {
     "data": {
      "text/html": [
       "<div>\n",
       "<style scoped>\n",
       "    .dataframe tbody tr th:only-of-type {\n",
       "        vertical-align: middle;\n",
       "    }\n",
       "\n",
       "    .dataframe tbody tr th {\n",
       "        vertical-align: top;\n",
       "    }\n",
       "\n",
       "    .dataframe thead th {\n",
       "        text-align: right;\n",
       "    }\n",
       "</style>\n",
       "<table border=\"1\" class=\"dataframe\">\n",
       "  <thead>\n",
       "    <tr style=\"text-align: right;\">\n",
       "      <th></th>\n",
       "      <th>text</th>\n",
       "      <th>created_at</th>\n",
       "      <th>favorite_count</th>\n",
       "      <th>tokens</th>\n",
       "    </tr>\n",
       "  </thead>\n",
       "  <tbody>\n",
       "    <tr>\n",
       "      <th>56</th>\n",
       "      <td>WIshing everyone a happy, healthy and prospero...</td>\n",
       "      <td>2010-12-30 21:42:01+00:00</td>\n",
       "      <td>42</td>\n",
       "      <td>[wish, happi, healthi, prosper, new, year]</td>\n",
       "    </tr>\n",
       "    <tr>\n",
       "      <th>57</th>\n",
       "      <td>Wishing everyone a very Happy Holiday season!</td>\n",
       "      <td>2010-12-23 16:26:18+00:00</td>\n",
       "      <td>55</td>\n",
       "      <td>[wish, happi, holidai, season]</td>\n",
       "    </tr>\n",
       "    <tr>\n",
       "      <th>58</th>\n",
       "      <td>Don't forget to watch Larry King tonight, CNN ...</td>\n",
       "      <td>2010-12-16 14:30:23+00:00</td>\n",
       "      <td>20</td>\n",
       "      <td>[forget, watch, larri, king, tonight, cnn, tel...</td>\n",
       "    </tr>\n",
       "    <tr>\n",
       "      <th>59</th>\n",
       "      <td>I'll be appearing on Larry King Live for his f...</td>\n",
       "      <td>2010-12-14 20:55:30+00:00</td>\n",
       "      <td>37</td>\n",
       "      <td>[appear, larri, king, live, final, thursdai, n...</td>\n",
       "    </tr>\n",
       "    <tr>\n",
       "      <th>60</th>\n",
       "      <td>...Trump International Hotel Las Vegas, and Tr...</td>\n",
       "      <td>2010-12-13 16:42:27+00:00</td>\n",
       "      <td>6</td>\n",
       "      <td>[intern, hotel, la, vega, intern, hotel, tower...</td>\n",
       "    </tr>\n",
       "  </tbody>\n",
       "</table>\n",
       "</div>"
      ],
      "text/plain": [
       "                                                 text  \\\n",
       "56  WIshing everyone a happy, healthy and prospero...   \n",
       "57      Wishing everyone a very Happy Holiday season!   \n",
       "58  Don't forget to watch Larry King tonight, CNN ...   \n",
       "59  I'll be appearing on Larry King Live for his f...   \n",
       "60  ...Trump International Hotel Las Vegas, and Tr...   \n",
       "\n",
       "                  created_at  favorite_count  \\\n",
       "56 2010-12-30 21:42:01+00:00              42   \n",
       "57 2010-12-23 16:26:18+00:00              55   \n",
       "58 2010-12-16 14:30:23+00:00              20   \n",
       "59 2010-12-14 20:55:30+00:00              37   \n",
       "60 2010-12-13 16:42:27+00:00               6   \n",
       "\n",
       "                                               tokens  \n",
       "56         [wish, happi, healthi, prosper, new, year]  \n",
       "57                     [wish, happi, holidai, season]  \n",
       "58  [forget, watch, larri, king, tonight, cnn, tel...  \n",
       "59  [appear, larri, king, live, final, thursdai, n...  \n",
       "60  [intern, hotel, la, vega, intern, hotel, tower...  "
      ]
     },
     "execution_count": 1,
     "metadata": {},
     "output_type": "execute_result"
    }
   ],
   "source": [
    "import pandas as pd\n",
    "from gensim.parsing.preprocessing import preprocess_string, STOPWORDS \n",
    "\n",
    "CUSTOM_STOP_WORDS = ['www','tinyurl','com', 'https', 'http','donald','trump','realdonaldtrump', '&amp', 'rt', 'bit', 'ly', 'bitly']\n",
    "\n",
    "def clean_tokenize_text(tweet_df):\n",
    "    \"\"\"\n",
    "    5 points \n",
    "    Create a function that cleans and tokenizes the text in the column 'text' \n",
    "        and saves it in a column called 'tokens'.    \n",
    "    In your output dataframe, the column 'tokens' should contain a list of strings.\n",
    "    \n",
    "    (1) Use gensim's preprocess.preprocess_string function to do our basic preprocessing of the 'text'; \n",
    "            No special methods need be selected, nor additional gensim library items imported, the default works.\n",
    "    (2) Next, remove default gensim STOPWORDS and our own list of CUSTOM_STOP_WORDS above. \n",
    "            This will require creating your own postprocessing operation(s).  \n",
    "        Why do we need our own postprocessing operation to remove STOPWORDS if these words are a default set in gensim?? \n",
    "        The reason is preprocess_string function will remove a STOPWORD like 'go' if it appears as a full word in the text, but will return 'go' as \n",
    "        a stem of a word like 'going', so you'll need to remove the STOPWORDS (and CUSTOM_STOP_WORDS) in a postprocessing step.\n",
    "    \n",
    "    If you implement the above instructions correctly, these are the changes we'll see performed on the original 'text':\n",
    "        - remove tags\n",
    "        - strip punctuation\n",
    "        - remove multiple whitespace\n",
    "        - remove numeric characters\n",
    "        - tokenize words\n",
    "        - return a lower-case stemmed version of the text\n",
    "        - remove common STOPWORDS (imported from gensim's Stone, Denis, Kwantes (2010) dataset)\n",
    "        - remove CUSTOM_STOP_WORDS, defined above\n",
    " \n",
    "    \"\"\"\n",
    "    tweet_df['text'] = tweet_df['text'].astype(str)\n",
    "    tweet_df[\"tokens\"] = tweet_df[\"text\"].apply(preprocess_string)\n",
    "    ALL_STOPWORDS = STOPWORDS.union(CUSTOM_STOP_WORDS) # union gensim stopwords with custom stopwords\n",
    "    tweet_df[\"tokens\"] = tweet_df[\"tokens\"].apply(lambda l: [s for s in l if s not in ALL_STOPWORDS])\n",
    "    return tweet_df\n",
    "    # YOUR CODE HERE\n",
    "    #raise NotImplementedError()\n",
    "\n",
    "tweets_tokens = clean_tokenize_text(pd.read_pickle('assets/tweets.pkl'))\n",
    "tweets_tokens.head()"
   ]
  },
  {
   "cell_type": "code",
   "execution_count": 2,
   "metadata": {
    "deletable": false,
    "editable": false,
    "nbgrader": {
     "cell_type": "code",
     "checksum": "2b2747e20cba39fa97add6e2297a1831",
     "grade": true,
     "grade_id": "clean_tokenize_text_test",
     "locked": true,
     "points": 5,
     "schema_version": 3,
     "solution": false
    }
   },
   "outputs": [],
   "source": [
    "\n",
    "\n",
    "tweets_tokens = clean_tokenize_text(pd.read_pickle('assets/tweets.pkl'))\n",
    "\n",
    "assert 'tokens' in tweets_tokens.columns, \"clean_tokenize_text, the column tokens should exist\"\n",
    "assert len(tweets_tokens.iloc[0].tokens) > 0, \"clean_tokenize_text, there should be valid tokens on the first tweet of the df\""
   ]
  },
  {
   "cell_type": "markdown",
   "metadata": {
    "deletable": false,
    "editable": false,
    "nbgrader": {
     "cell_type": "markdown",
     "checksum": "3884e42792555f07e0b3d57142e26a96",
     "grade": false,
     "grade_id": "why_custom_stopwords_question",
     "locked": true,
     "schema_version": 3,
     "solution": false
    }
   },
   "source": [
    "### Why CUSTOM_STOP_WORDS?\n",
    "Why isn't the standard STOPWORDS list sufficient for our purposes? (Hint: take a look at what's in it.)"
   ]
  },
  {
   "cell_type": "markdown",
   "metadata": {
    "deletable": false,
    "nbgrader": {
     "cell_type": "markdown",
     "checksum": "7fd103b3fb27087b71d6a1c65c620aec",
     "grade": true,
     "grade_id": "why_custom_stopwords_answer",
     "locked": false,
     "points": 0,
     "schema_version": 3,
     "solution": true
    }
   },
   "source": [
    "The standard STOPWORDS list is not sufficient for our purposes because it does not include many words we don't want to have in the lists. For example, 'tinyurl' and 'https' aren't very important for our purposes or really any type of analysis in our case.  "
   ]
  },
  {
   "cell_type": "markdown",
   "metadata": {
    "deletable": false,
    "editable": false,
    "nbgrader": {
     "cell_type": "markdown",
     "checksum": "3f8dae87243f711fabe3a987344d0aac",
     "grade": false,
     "grade_id": "cell-1505c3fc3d77c7e1",
     "locked": true,
     "schema_version": 3,
     "solution": false,
     "task": false
    }
   },
   "source": [
    "## Create a function to append common bigrams to the tokens\n",
    "*We suggest following the instructions below as closely as possible to match the sample output, though we'd also note it is possible to vary slightly from the sample provided and still pass the autograder and recieve full credit for the charts below.*\n",
    "\n",
    "<img src=\"assets/append_bigrams_example.png\"  style=\"width: 500px;\"/>"
   ]
  },
  {
   "cell_type": "code",
   "execution_count": 3,
   "metadata": {},
   "outputs": [],
   "source": [
    "#phrases = Phrases(tweets_tokens[\"tokens\"], min_count=20).freeze()\n",
    "# keep_bigrams = list(phrases.freeze().phrasegrams.keys())\n",
    "# [x for x in phrases[tweets_tokens[\"tokens\"]]]"
   ]
  },
  {
   "cell_type": "code",
   "execution_count": 4,
   "metadata": {
    "deletable": false,
    "nbgrader": {
     "cell_type": "code",
     "checksum": "275f822151b5f963a8daf3db359dda78",
     "grade": false,
     "grade_id": "append_bigrams",
     "locked": false,
     "schema_version": 3,
     "solution": true
    }
   },
   "outputs": [
    {
     "data": {
      "text/plain": [
       "array([list(['wish', 'happi', 'healthi', 'prosper', 'new', 'year']),\n",
       "       list(['wish', 'happi', 'holidai', 'season']),\n",
       "       list(['forget', 'watch', 'larri', 'king', 'tonight', 'cnn', 'televis', 'legend', 'great', 'friend', 'fantast', 'farewel']),\n",
       "       list(['appear', 'larri', 'king', 'live', 'final', 'thursdai', 'night', 'cnn', 'larri', 'year']),\n",
       "       list(['intern', 'hotel', 'la', 'vega', 'intern', 'hotel', 'tower', 'waikiki', 'beach', 'walk', 'tlworldsbest', 'roiresearch', 'intern_hotel', 'la_vega', 'intern_hotel'])],\n",
       "      dtype=object)"
      ]
     },
     "execution_count": 4,
     "metadata": {},
     "output_type": "execute_result"
    }
   ],
   "source": [
    "from gensim.models.phrases import Phrases, Phraser\n",
    "\n",
    "def append_bigrams(tweet_df):\n",
    "    \"\"\"\n",
    "    10 points \n",
    "        Create a function that appends bigrams (sets of two adjacent words) for the column 'tokens'.\n",
    "        \n",
    "        We recommend using gensim's gensim.models.Phrases to detect the frequent bigrams, \n",
    "            and then \"freezing\" the model as a Phraser for better performance.\n",
    "            \n",
    "        Only do this for bigrams that appear together frequently in the corpus (20+ times).\n",
    "        so that it makes sense to treat them as a single phrase. (min_count parameter)\n",
    "            \n",
    "        Join the bigrams using an underscore or \"_\" (delimiter parameter, also the default treatment); \n",
    "        e.g., the tokens ['machine','learning'] would yield ['machine','learning', 'machine_learning']\n",
    "\n",
    "    NOTE: Don't remove duplicate strings. It's OK if the same bigram is included more than once.\n",
    "    \"\"\"\n",
    "    # YOUR CODE HERE\n",
    "    #raise NotImplementedError()\n",
    "    phrases = Phrases(tweets_tokens[\"tokens\"], min_count=20).freeze()\n",
    "    tweet_df[\"tokens\"] = tweet_df[\"tokens\"].apply(lambda l: l + [x for x in phrases[l] if x not in l])\n",
    "    return tweet_df\n",
    "\n",
    "tweets_tokens = clean_tokenize_text(pd.read_pickle('assets/tweets.pkl'))\n",
    "tweets_bigrams = append_bigrams(tweets_tokens)\n",
    "tweets_bigrams['tokens'].head().values  #you can try lowering your min_count to see how the output would change!"
   ]
  },
  {
   "cell_type": "code",
   "execution_count": 5,
   "metadata": {
    "deletable": false,
    "editable": false,
    "nbgrader": {
     "cell_type": "code",
     "checksum": "1d7cc9b9599c800e55a59f91b387ce14",
     "grade": true,
     "grade_id": "append_bigrams_test",
     "locked": true,
     "points": 10,
     "schema_version": 3,
     "solution": false
    }
   },
   "outputs": [],
   "source": [
    "assert True in tweets_bigrams['tokens'].str.join(' ').str.contains('_').values, 'append_bigrams, the tokens must contain bigrams'"
   ]
  },
  {
   "cell_type": "markdown",
   "metadata": {
    "deletable": false,
    "editable": false,
    "nbgrader": {
     "cell_type": "markdown",
     "checksum": "ecdb3debba69b69784a20ab2ed9c853a",
     "grade": false,
     "grade_id": "cell-911f373e6b188dd4",
     "locked": true,
     "schema_version": 3,
     "solution": false,
     "task": false
    }
   },
   "source": [
    "## Create a function to create a topic model\n",
    "*We suggest following the instructions below as closely as possible to match the sample output, though we'd also note it is possible to vary slightly from the sample provided and still pass the autograder and recieve full credit for the charts below.*\n",
    "\n",
    "<img src=\"assets/find_topics_example.png\"  style=\"width: 500px;\"/>"
   ]
  },
  {
   "cell_type": "code",
   "execution_count": 6,
   "metadata": {},
   "outputs": [
    {
     "data": {
      "text/plain": [
       "56              [wish, happi, healthi, prosper, new, year]\n",
       "57                          [wish, happi, holidai, season]\n",
       "58       [forget, watch, larri, king, tonight, cnn, tel...\n",
       "59       [appear, larri, king, live, final, thursdai, n...\n",
       "60       [intern, hotel, la, vega, intern, hotel, tower...\n",
       "                               ...                        \n",
       "32792    [donaldjtrumpjr, happi, new, year, newyear, fa...\n",
       "32793    [erictrump, incred, year, entir, famili, beaut...\n",
       "32794    [reinc, happi, new, year, god, bless, look, fo...\n",
       "32795    [danscavino, behalf, potu, amp, teamtrump, hap...\n",
       "32796    [american, happynewyear, amp, bless, look, for...\n",
       "Name: tokens, Length: 32738, dtype: object"
      ]
     },
     "execution_count": 6,
     "metadata": {},
     "output_type": "execute_result"
    }
   ],
   "source": [
    "tweets_bigrams[\"tokens\"]"
   ]
  },
  {
   "cell_type": "code",
   "execution_count": 7,
   "metadata": {
    "deletable": false,
    "nbgrader": {
     "cell_type": "code",
     "checksum": "d952e1901fd4ffeceb5c3bfbe8daba54",
     "grade": true,
     "grade_id": "compute_topics",
     "locked": false,
     "points": 0,
     "schema_version": 3,
     "solution": true
    }
   },
   "outputs": [
    {
     "data": {
      "text/plain": [
       "[([(0.018911319, 'great'),\n",
       "   (0.014611139, 'thank'),\n",
       "   (0.013477541, 'amp'),\n",
       "   (0.009236722, 'new'),\n",
       "   (0.008199047, 'presid'),\n",
       "   (0.0071967435, 'peopl'),\n",
       "   (0.0068205995, 'america'),\n",
       "   (0.0057880348, 'job'),\n",
       "   (0.00545007, 'countri'),\n",
       "   (0.0054379217, 'time'),\n",
       "   (0.0053115194, 'vote'),\n",
       "   (0.0052420287, 'big'),\n",
       "   (0.0048769773, 'todai'),\n",
       "   (0.0047739735, 'run'),\n",
       "   (0.0046171215, 'look'),\n",
       "   (0.0045986543, 'hillari'),\n",
       "   (0.0045764465, 'like'),\n",
       "   (0.004303873, 'need'),\n",
       "   (0.004004413, 'year'),\n",
       "   (0.003976629, 'watch')],\n",
       "  -3.385286924694381)]"
      ]
     },
     "execution_count": 7,
     "metadata": {},
     "output_type": "execute_result"
    }
   ],
   "source": [
    "from gensim.corpora import Dictionary\n",
    "from gensim.models import LdaModel\n",
    "\n",
    "def find_topics(tokens, num_topics):\n",
    "    \"\"\"\n",
    "    10 points\n",
    "    \n",
    "    tokens: an iterable each of whose items is a list of tokens\n",
    "    num_topics: integer\n",
    "    \n",
    "    Use gensim's LDA Model to find num_topics and return the top_topics. You should use the \n",
    "    following parameters for the LDA Model:\n",
    "    \n",
    "        - chunksize=2000\n",
    "        - passes=20\n",
    "        - iterations=400\n",
    "        - eval_every=None\n",
    "        - random_state=42\n",
    "        - alpha='auto'\n",
    "        - eta='auto'\n",
    "    \"\"\"\n",
    "    # use gensim's Dictionary to filter words that appear less than ten times in the corpus\n",
    "    # or represent more than 60% of the corpus\n",
    "    #dictionary = None # Your code here\n",
    "    dct = Dictionary(list(tokens))\n",
    "    dct.filter_extremes(no_below=10, no_above=0.6)\n",
    "    # use the dictionary to create a bag of word representation of each document\n",
    "    corpus = [dct.doc2bow(doc) for doc in list(tokens)] # Your code here \n",
    "    # create gensim's LDA model \n",
    "    lda_model = LdaModel(corpus=corpus,id2word=dct,num_topics=num_topics, chunksize=2000, passes=20, iterations=400, eval_every=None, random_state=42, alpha='auto', eta='auto')\n",
    "    #lda_model = None # Your code here\n",
    "    # YOUR CODE HERE\n",
    "    #raise NotImplementedError()\n",
    "    return lda_model.top_topics(corpus) \n",
    "\n",
    "#uncomment to test, and try increasing the number of topics to see how the output changes!  \n",
    "#note that this function can take a minute or more to run per topic.\n",
    "# The function can take a minute or more to run.\n",
    "tweets_tokens = clean_tokenize_text(pd.read_pickle('assets/tweets.pkl'))\n",
    "tweets_bigrams = append_bigrams(tweets_tokens)\n",
    "find_topics(tweets_bigrams['tokens'].dropna(), num_topics=1)"
   ]
  },
  {
   "cell_type": "markdown",
   "metadata": {
    "deletable": false,
    "editable": false,
    "nbgrader": {
     "cell_type": "markdown",
     "checksum": "41fa1e0f21e09bbc7f15da7242e97431",
     "grade": false,
     "grade_id": "cell-7348bf97a9fd7956",
     "locked": true,
     "schema_version": 3,
     "solution": false
    }
   },
   "source": [
    "### Visualize coherence as the number of topics varies from 2 to 10\n",
    "*Please note the below cell can take a while to run, and that it is possible to have slight differences with the sample output and still recieve full credit.*\n",
    "<img src=\"assets/sample_plot_1.png\" alt=\"coherence vs topics\" style=\"width: 500px;\"/>"
   ]
  },
  {
   "cell_type": "code",
   "execution_count": 8,
   "metadata": {
    "deletable": false,
    "nbgrader": {
     "cell_type": "code",
     "checksum": "52dcff7cd1b80225f324ce9c5ec42283",
     "grade": true,
     "grade_id": "plot_coherences_topics",
     "locked": false,
     "points": 0,
     "schema_version": 3,
     "solution": true
    }
   },
   "outputs": [
    {
     "data": {
      "image/png": "[encoded data removed]",
      "text/plain": [
       "<Figure size 432x288 with 1 Axes>"
      ]
     },
     "metadata": {
      "needs_background": "light"
     },
     "output_type": "display_data"
    }
   ],
   "source": [
    "def calculate_avg_coherence(topics):\n",
    "    \"\"\"\n",
    "    \n",
    "    topics: a sequence of topics as extraced from an LDA model\n",
    "    \n",
    "    10 points\n",
    "    Calculate the average coherence based on the top_topics returned by gensim's LDA model\n",
    "    \"\"\"\n",
    "    avg_topic_coherence = sum([t[1] for t in topics])/len(topics)\n",
    "    # YOUR CODE HERE\n",
    "    #raise NotImplementedError()\n",
    "    return avg_topic_coherence\n",
    "\n",
    "def plot_coherences_topics(tokens):\n",
    "    \"\"\"\n",
    "    10 points\n",
    "    Create a plot as shown above of coherence for the topic models created with num_topics varying from 2 to 10\n",
    "    \"\"\"\n",
    "    \n",
    "    topic_list = []\n",
    "    coherence_list = []\n",
    "    topics_range = range(2, 11, 1)\n",
    "    for i in topics_range:\n",
    "        topics = find_topics(tokens, i)\n",
    "        coherence = calculate_avg_coherence(topics)\n",
    "        topic_list.append(i)\n",
    "        coherence_list.append(coherence)\n",
    "\n",
    "    model_results = {'Topics': topic_list,'Coherence': coherence_list}\n",
    "    # YOUR CODE HERE\n",
    "    #raise NotImplementedError()\n",
    "    plt = pd.DataFrame(model_results).set_index('Topics').plot()\n",
    "\n",
    "tweets_tokens = clean_tokenize_text(pd.read_pickle('assets/tweets.pkl'))\n",
    "tweets_bigrams = append_bigrams(tweets_tokens)\n",
    "tweets_bigrams = tweets_bigrams.dropna()\n",
    "coherences_df = plot_coherences_topics(tweets_bigrams['tokens'])\n",
    "coherences_df"
   ]
  },
  {
   "cell_type": "markdown",
   "metadata": {
    "deletable": false,
    "editable": false,
    "nbgrader": {
     "cell_type": "markdown",
     "checksum": "80a7741a1846f91e70816fa3906fb465",
     "grade": false,
     "grade_id": "cell-89ad1a4f4fdfd4b7",
     "locked": true,
     "schema_version": 3,
     "solution": false
    }
   },
   "source": [
    "### Explain how can you use this measure to establish the number of topics. (5 points)"
   ]
  },
  {
   "cell_type": "markdown",
   "metadata": {
    "deletable": false,
    "nbgrader": {
     "cell_type": "markdown",
     "checksum": "2f8ff7c19c2792e254f4d3013e482f4b",
     "grade": true,
     "grade_id": "how_to_use_coherence",
     "locked": false,
     "points": 0,
     "schema_version": 3,
     "solution": true
    }
   },
   "source": [
    "You can use this measure to establish the number of topics through creating a range and calculating the average coherence based on the top_topics.  "
   ]
  },
  {
   "cell_type": "markdown",
   "metadata": {
    "deletable": false,
    "editable": false,
    "nbgrader": {
     "cell_type": "markdown",
     "checksum": "ebf64739703117d10bb974c6d10fe446",
     "grade": false,
     "grade_id": "cell-70aa10af1c90a3cf",
     "locked": true,
     "schema_version": 3,
     "solution": false
    }
   },
   "source": [
    "### Visualize the topics across time by grouping tweets by year (2010 to 2017), and displaying the words for each topic.\n",
    "*Please note that it is possible to have slight differences with the sample output and still recieve full credit.*\n",
    "<img src=\"assets/sample_plot_2.png\" alt=\"topics across time\" style=\"width: 500px;\"/>\n"
   ]
  },
  {
   "cell_type": "code",
   "execution_count": 9,
   "metadata": {
    "deletable": false,
    "nbgrader": {
     "cell_type": "code",
     "checksum": "d90b2f38728d270211e62c9b59ea0a47",
     "grade": true,
     "grade_id": "plot_topics_per_year",
     "locked": false,
     "points": 0,
     "schema_version": 3,
     "solution": true
    }
   },
   "outputs": [
    {
     "data": {
      "image/png": "[encoded data removed]",
      "text/plain": [
       "<Figure size 1440x360 with 2 Axes>"
      ]
     },
     "metadata": {
      "needs_background": "light"
     },
     "output_type": "display_data"
    }
   ],
   "source": [
    "import seaborn as sns\n",
    "import matplotlib.pyplot as plt\n",
    "import numpy as np\n",
    "\n",
    "\n",
    "def plot_topics_per_year(tweets_df, num_topics, num_words):\n",
    "    \"\"\" \n",
    "    10 points\n",
    "    Plot the topics of the tweets per each year following the example provided above.\n",
    "    \n",
    "    For this plot, we recommend using seaborn for the heatmap. Note that you must pass fmt='' to Seaborn for \n",
    "    string annotations. The colormap to match is \"YlGnBu\". See heatmap documentation for overlaying labels.\n",
    "    \n",
    "     - tweets_df is the dataframe that contains pre-processed tokens\n",
    "     - num_topics is the number of topics to produce each year\n",
    "     - num_words represents the number of words to include in each topic\n",
    "    \"\"\"\n",
    "    # YOUR CODE HERE\n",
    "    df_2010 = tweets_bigrams[pd.DatetimeIndex(tweets_bigrams['created_at']).year == 2010]\n",
    "    data =find_topics(df_2010['tokens'].dropna(), num_topics=num_topics)\n",
    "    topics = []\n",
    "    for i in data:\n",
    "        topics.append(i[0])\n",
    "    df_values = pd.DataFrame([[y[0] for y in  x] for x in topics])\n",
    "    df_topics = pd.DataFrame([[y[1] for y in  x] for x in topics])\n",
    "    fig, ax = plt.subplots(figsize=(20,5))\n",
    "    sns.heatmap(df_values,annot = df_topics, fmt='', cmap = \"YlGnBu\", ax=ax)\n",
    "    #raise NotImplementedError()\n",
    "    \n",
    "tweets_tokens = clean_tokenize_text(pd.read_pickle('assets/tweets.pkl'))\n",
    "tweets_bigrams = append_bigrams(tweets_tokens)\n",
    "tweets_bigrams = tweets_bigrams.dropna()\n",
    "plot_topics_per_year(tweets_bigrams, 6, 15)"
   ]
  },
  {
   "cell_type": "markdown",
   "metadata": {},
   "source": [
    "### Explain what you see in the topics. For example, do the topics make sense? (5 points)"
   ]
  },
  {
   "cell_type": "markdown",
   "metadata": {
    "deletable": false,
    "nbgrader": {
     "cell_type": "markdown",
     "checksum": "3720d3b5d44a554a0fcc33e888edbcae",
     "grade": true,
     "grade_id": "plot_topics_per_year_obs",
     "locked": false,
     "points": 0,
     "schema_version": 3,
     "solution": true
    }
   },
   "source": [
    "I see a bunch of topics in the 0.35-0.25 range that could definitely relate to each other somehow, but around after the 0.25-0.20 range, the topics do not really make sense and do not correlate with one another, and some topics are not actual words or are misspelled."
   ]
  },
  {
   "cell_type": "markdown",
   "metadata": {
    "deletable": false,
    "editable": false,
    "nbgrader": {
     "cell_type": "markdown",
     "checksum": "67844857a62b0cdac3e300afe2bf3777",
     "grade": false,
     "grade_id": "cell-6bdbbcf86ca9eae3",
     "locked": true,
     "schema_version": 3,
     "solution": false
    }
   },
   "source": [
    "### Visualize topics for the most popular tweets (tweets with favorite count in the 75th percentile)\n",
    "*Please note that it is possible to have slight differences with the sample output and still recieve full marks.*\n",
    "\n",
    "<img src=\"assets/sample_plot_3.png\" alt=\"topics across time\" style=\"width: 500px;\"/>\n"
   ]
  },
  {
   "cell_type": "code",
   "execution_count": 10,
   "metadata": {
    "deletable": false,
    "nbgrader": {
     "cell_type": "code",
     "checksum": "a6e9fe99aad3294ed6e4a81c5084fb6a",
     "grade": true,
     "grade_id": "plot_most_popular_topics",
     "locked": false,
     "points": 0,
     "schema_version": 3,
     "solution": true
    }
   },
   "outputs": [
    {
     "ename": "TypeError",
     "evalue": "DatetimeIndex.name must be a hashable type",
     "output_type": "error",
     "traceback": [
      "\u001b[0;31m---------------------------------------------------------------------------\u001b[0m",
      "\u001b[0;31mTypeError\u001b[0m                                 Traceback (most recent call last)",
      "Input \u001b[0;32mIn [10]\u001b[0m, in \u001b[0;36m<cell line: 35>\u001b[0;34m()\u001b[0m\n\u001b[1;32m     33\u001b[0m tweets_bigrams \u001b[38;5;241m=\u001b[39m append_bigrams(tweets_tokens)\n\u001b[1;32m     34\u001b[0m tweets_bigrams \u001b[38;5;241m=\u001b[39m tweets_bigrams\u001b[38;5;241m.\u001b[39mdropna()\n\u001b[0;32m---> 35\u001b[0m \u001b[43mplot_most_popular_topics\u001b[49m\u001b[43m(\u001b[49m\u001b[43mtweets_bigrams\u001b[49m\u001b[43m,\u001b[49m\u001b[43m \u001b[49m\u001b[38;5;241;43m6\u001b[39;49m\u001b[43m,\u001b[49m\u001b[43m \u001b[49m\u001b[38;5;241;43m15\u001b[39;49m\u001b[43m)\u001b[49m\n",
      "Input \u001b[0;32mIn [10]\u001b[0m, in \u001b[0;36mplot_most_popular_topics\u001b[0;34m(tweets_df, num_topics, num_words)\u001b[0m\n\u001b[1;32m      6\u001b[0m \u001b[38;5;124;03m\"\"\" \u001b[39;00m\n\u001b[1;32m      7\u001b[0m \u001b[38;5;124;03m10 points\u001b[39;00m\n\u001b[1;32m      8\u001b[0m \u001b[38;5;124;03mPlot the topics of the most popular tweets (tweets with favorite count in the 75th percentile). The best\u001b[39;00m\n\u001b[0;32m   (...)\u001b[0m\n\u001b[1;32m     16\u001b[0m \u001b[38;5;124;03m - num_words represents the number of words to include in each topic\u001b[39;00m\n\u001b[1;32m     17\u001b[0m \u001b[38;5;124;03m\"\"\"\u001b[39;00m\n\u001b[1;32m     18\u001b[0m \u001b[38;5;66;03m# YOUR CODE HERE\u001b[39;00m\n\u001b[1;32m     19\u001b[0m \u001b[38;5;66;03m# YOUR CODE HERE\u001b[39;00m\n\u001b[0;32m---> 20\u001b[0m df_75 \u001b[38;5;241m=\u001b[39m tweets_bigrams[\u001b[43mpd\u001b[49m\u001b[38;5;241;43m.\u001b[39;49m\u001b[43mDatetimeIndex\u001b[49m\u001b[43m(\u001b[49m\u001b[43mtweets_bigrams\u001b[49m\u001b[43m[\u001b[49m\u001b[38;5;124;43m'\u001b[39;49m\u001b[38;5;124;43mcreated_at\u001b[39;49m\u001b[38;5;124;43m'\u001b[39;49m\u001b[43m]\u001b[49m\u001b[43m)\u001b[49m\u001b[38;5;241;43m.\u001b[39;49m\u001b[43mrename\u001b[49m\u001b[43m(\u001b[49m\u001b[43m{\u001b[49m\u001b[38;5;124;43m'\u001b[39;49m\u001b[38;5;124;43myear\u001b[39;49m\u001b[38;5;124;43m'\u001b[39;49m\u001b[43m:\u001b[49m\u001b[38;5;124;43m'\u001b[39;49m\u001b[38;5;124;43mtweet_percentage\u001b[39;49m\u001b[38;5;124;43m'\u001b[39;49m\u001b[43m}\u001b[49m\u001b[43m)\u001b[49m]\n\u001b[1;32m     21\u001b[0m data \u001b[38;5;241m=\u001b[39mfind_topics(df_75[\u001b[38;5;124m'\u001b[39m\u001b[38;5;124mtokens\u001b[39m\u001b[38;5;124m'\u001b[39m]\u001b[38;5;241m.\u001b[39mdropna(), num_topics\u001b[38;5;241m=\u001b[39mnum_topics)\n\u001b[1;32m     22\u001b[0m topics \u001b[38;5;241m=\u001b[39m []\n",
      "File \u001b[0;32m/opt/conda/lib/python3.8/site-packages/pandas/core/indexes/base.py:1441\u001b[0m, in \u001b[0;36mIndex.rename\u001b[0;34m(self, name, inplace)\u001b[0m\n\u001b[1;32m   1392\u001b[0m \u001b[38;5;28;01mdef\u001b[39;00m \u001b[38;5;21mrename\u001b[39m(\u001b[38;5;28mself\u001b[39m, name, inplace\u001b[38;5;241m=\u001b[39m\u001b[38;5;28;01mFalse\u001b[39;00m):\n\u001b[1;32m   1393\u001b[0m     \u001b[38;5;124;03m\"\"\"\u001b[39;00m\n\u001b[1;32m   1394\u001b[0m \u001b[38;5;124;03m    Alter Index or MultiIndex name.\u001b[39;00m\n\u001b[1;32m   1395\u001b[0m \n\u001b[0;32m   (...)\u001b[0m\n\u001b[1;32m   1439\u001b[0m \u001b[38;5;124;03m    TypeError: Must pass list-like as `names`.\u001b[39;00m\n\u001b[1;32m   1440\u001b[0m \u001b[38;5;124;03m    \"\"\"\u001b[39;00m\n\u001b[0;32m-> 1441\u001b[0m     \u001b[38;5;28;01mreturn\u001b[39;00m \u001b[38;5;28;43mself\u001b[39;49m\u001b[38;5;241;43m.\u001b[39;49m\u001b[43mset_names\u001b[49m\u001b[43m(\u001b[49m\u001b[43m[\u001b[49m\u001b[43mname\u001b[49m\u001b[43m]\u001b[49m\u001b[43m,\u001b[49m\u001b[43m \u001b[49m\u001b[43minplace\u001b[49m\u001b[38;5;241;43m=\u001b[39;49m\u001b[43minplace\u001b[49m\u001b[43m)\u001b[49m\n",
      "File \u001b[0;32m/opt/conda/lib/python3.8/site-packages/pandas/core/indexes/base.py:1388\u001b[0m, in \u001b[0;36mIndex.set_names\u001b[0;34m(self, names, level, inplace)\u001b[0m\n\u001b[1;32m   1386\u001b[0m \u001b[38;5;28;01melse\u001b[39;00m:\n\u001b[1;32m   1387\u001b[0m     idx \u001b[38;5;241m=\u001b[39m \u001b[38;5;28mself\u001b[39m\u001b[38;5;241m.\u001b[39m_shallow_copy()\n\u001b[0;32m-> 1388\u001b[0m \u001b[43midx\u001b[49m\u001b[38;5;241;43m.\u001b[39;49m\u001b[43m_set_names\u001b[49m\u001b[43m(\u001b[49m\u001b[43mnames\u001b[49m\u001b[43m,\u001b[49m\u001b[43m \u001b[49m\u001b[43mlevel\u001b[49m\u001b[38;5;241;43m=\u001b[39;49m\u001b[43mlevel\u001b[49m\u001b[43m)\u001b[49m\n\u001b[1;32m   1389\u001b[0m \u001b[38;5;28;01mif\u001b[39;00m \u001b[38;5;129;01mnot\u001b[39;00m inplace:\n\u001b[1;32m   1390\u001b[0m     \u001b[38;5;28;01mreturn\u001b[39;00m idx\n",
      "File \u001b[0;32m/opt/conda/lib/python3.8/site-packages/pandas/core/indexes/base.py:1307\u001b[0m, in \u001b[0;36mIndex._set_names\u001b[0;34m(self, values, level)\u001b[0m\n\u001b[1;32m   1303\u001b[0m     \u001b[38;5;28;01mraise\u001b[39;00m \u001b[38;5;167;01mValueError\u001b[39;00m(\u001b[38;5;124mf\u001b[39m\u001b[38;5;124m\"\u001b[39m\u001b[38;5;124mLength of new names must be 1, got \u001b[39m\u001b[38;5;132;01m{\u001b[39;00m\u001b[38;5;28mlen\u001b[39m(values)\u001b[38;5;132;01m}\u001b[39;00m\u001b[38;5;124m\"\u001b[39m)\n\u001b[1;32m   1305\u001b[0m \u001b[38;5;66;03m# GH 20527\u001b[39;00m\n\u001b[1;32m   1306\u001b[0m \u001b[38;5;66;03m# All items in 'name' need to be hashable:\u001b[39;00m\n\u001b[0;32m-> 1307\u001b[0m \u001b[43mvalidate_all_hashable\u001b[49m\u001b[43m(\u001b[49m\u001b[38;5;241;43m*\u001b[39;49m\u001b[43mvalues\u001b[49m\u001b[43m,\u001b[49m\u001b[43m \u001b[49m\u001b[43merror_name\u001b[49m\u001b[38;5;241;43m=\u001b[39;49m\u001b[38;5;124;43mf\u001b[39;49m\u001b[38;5;124;43m\"\u001b[39;49m\u001b[38;5;132;43;01m{\u001b[39;49;00m\u001b[38;5;28;43mtype\u001b[39;49m\u001b[43m(\u001b[49m\u001b[38;5;28;43mself\u001b[39;49m\u001b[43m)\u001b[49m\u001b[38;5;241;43m.\u001b[39;49m\u001b[38;5;18;43m__name__\u001b[39;49m\u001b[38;5;132;43;01m}\u001b[39;49;00m\u001b[38;5;124;43m.name\u001b[39;49m\u001b[38;5;124;43m\"\u001b[39;49m\u001b[43m)\u001b[49m\n\u001b[1;32m   1309\u001b[0m \u001b[38;5;28mself\u001b[39m\u001b[38;5;241m.\u001b[39m_name \u001b[38;5;241m=\u001b[39m values[\u001b[38;5;241m0\u001b[39m]\n",
      "File \u001b[0;32m/opt/conda/lib/python3.8/site-packages/pandas/core/dtypes/common.py:1764\u001b[0m, in \u001b[0;36mvalidate_all_hashable\u001b[0;34m(error_name, *args)\u001b[0m\n\u001b[1;32m   1762\u001b[0m \u001b[38;5;28;01mif\u001b[39;00m \u001b[38;5;129;01mnot\u001b[39;00m \u001b[38;5;28mall\u001b[39m(is_hashable(arg) \u001b[38;5;28;01mfor\u001b[39;00m arg \u001b[38;5;129;01min\u001b[39;00m args):\n\u001b[1;32m   1763\u001b[0m     \u001b[38;5;28;01mif\u001b[39;00m error_name:\n\u001b[0;32m-> 1764\u001b[0m         \u001b[38;5;28;01mraise\u001b[39;00m \u001b[38;5;167;01mTypeError\u001b[39;00m(\u001b[38;5;124mf\u001b[39m\u001b[38;5;124m\"\u001b[39m\u001b[38;5;132;01m{\u001b[39;00merror_name\u001b[38;5;132;01m}\u001b[39;00m\u001b[38;5;124m must be a hashable type\u001b[39m\u001b[38;5;124m\"\u001b[39m)\n\u001b[1;32m   1765\u001b[0m     \u001b[38;5;28;01melse\u001b[39;00m:\n\u001b[1;32m   1766\u001b[0m         \u001b[38;5;28;01mraise\u001b[39;00m \u001b[38;5;167;01mTypeError\u001b[39;00m(\u001b[38;5;124m\"\u001b[39m\u001b[38;5;124mAll elements must be hashable\u001b[39m\u001b[38;5;124m\"\u001b[39m)\n",
      "\u001b[0;31mTypeError\u001b[0m: DatetimeIndex.name must be a hashable type"
     ]
    }
   ],
   "source": [
    "import seaborn as sns\n",
    "import matplotlib.pyplot as plt\n",
    "import numpy as np\n",
    "\n",
    "def plot_most_popular_topics(tweets_df, num_topics, num_words):\n",
    "    \"\"\" \n",
    "    10 points\n",
    "    Plot the topics of the most popular tweets (tweets with favorite count in the 75th percentile). The best\n",
    "    approach is to restrict the set of tweets to those with high favorite count, and then compute topics.\n",
    "    \n",
    "    For this plot we recommend using seaborn for the heatmap. Note that you must pass fmt='' to Seaborn for \n",
    "    string annotations. The colormap to match is \"YlGnBu\". See heatmap documentation for overlaying labels.\n",
    "    \n",
    "     - tweets_df is the dataframe that contains pre-processed tokens\n",
    "     - num_topics is the number of topics to produce each year\n",
    "     - num_words represents the number of words to include in each topic\n",
    "    \"\"\"\n",
    "    # YOUR CODE HERE\n",
    "    # YOUR CODE HERE\n",
    "    df_75 = tweets_bigrams[pd.DatetimeIndex(tweets_bigrams['created_at']).rename({'year':'tweet_percentage'})]\n",
    "    data =find_topics(df_75['tokens'].dropna(), num_topics=num_topics)\n",
    "    topics = []\n",
    "    for i in data:\n",
    "        topics.append(i[0])\n",
    "    df_values = pd.DataFrame([[y[0] for y in  x] for x in topics])\n",
    "    df_topics = pd.DataFrame([[y[1] for y in  x] for x in topics])\n",
    "    fig, ax = plt.subplots(figsize=(20,5))\n",
    "    sns.heatmap(df_values,annot = df_topics, fmt='', cmap = \"YlGnBu\", ax=ax)\n",
    "    #raise NotImplementedError()\n",
    "    #raise NotImplementedError()\n",
    "    \n",
    "tweets_tokens = clean_tokenize_text(pd.read_pickle('assets/tweets.pkl'))\n",
    "tweets_bigrams = append_bigrams(tweets_tokens)\n",
    "tweets_bigrams = tweets_bigrams.dropna()\n",
    "plot_most_popular_topics(tweets_bigrams, 6, 15)"
   ]
  },
  {
   "cell_type": "markdown",
   "metadata": {},
   "source": [
    "### Explain what you see in the topics. How do they compare with the topics from all tweets? (5 points)"
   ]
  },
  {
   "cell_type": "markdown",
   "metadata": {
    "deletable": false,
    "nbgrader": {
     "cell_type": "markdown",
     "checksum": "6d852ccd2a078085c9d8d9033965c101",
     "grade": true,
     "grade_id": "plot_most_popular_topics_obs",
     "locked": false,
     "points": 0,
     "schema_version": 3,
     "solution": true
    }
   },
   "source": [
    "I see very few topics in the 0.09-0.08 range, but they could definitely relate to each other somehow, but around after the 0.07-0.06 range, the majority of the topics do not really make sense and do not correlate with one another, and some topics are not actual words or are misspelled."
   ]
  },
  {
   "cell_type": "markdown",
   "metadata": {
    "deletable": false,
    "editable": false,
    "nbgrader": {
     "cell_type": "markdown",
     "checksum": "a3b5762460f170726e92739d31623b61",
     "grade": false,
     "grade_id": "cell-e00daf4fa3253696",
     "locked": true,
     "schema_version": 3,
     "solution": false
    }
   },
   "source": [
    "### Visualize sentiment of the whole tweet corpus over time \n",
    "*Please note that it is possible to have slight differences with the sample output and still recieve full credit.*\n",
    "\n",
    "<img src=\"assets/sample_plot_4.png\" alt=\"sentiment over time\" style=\"width: 500px;\"/>\n"
   ]
  },
  {
   "cell_type": "code",
   "execution_count": 11,
   "metadata": {
    "deletable": false,
    "nbgrader": {
     "cell_type": "code",
     "checksum": "83b15625ed6e4a47546884c03226ac84",
     "grade": true,
     "grade_id": "plot_sentiment_over_time",
     "locked": false,
     "points": 0,
     "schema_version": 3,
     "solution": true
    }
   },
   "outputs": [],
   "source": [
    "from vaderSentiment.vaderSentiment import SentimentIntensityAnalyzer\n",
    "\n",
    "def plot_sentiment_over_time(tweets_df):\n",
    "    \"\"\" \n",
    "    10 points\n",
    "    Plot the sentiment of the whole tweet corpus over time as shown above\n",
    "    Use vaderSentiment to obtain the compound sentiment per tweet.\n",
    "    Aggregate the average sentiment per month in your plot\n",
    "        \n",
    "    - tweets_df: dataframe that contains created_at and text columns\n",
    "    \"\"\"\n",
    "    # YOUR CODE HERE\n",
    "    #raise NotImplementedError()\n",
    "tweets_df = pd.read_pickle('assets/tweets.pkl')\n",
    "plot_sentiment_over_time(tweets_df)"
   ]
  },
  {
   "cell_type": "markdown",
   "metadata": {},
   "source": [
    "### Write your observations about the sentiment (5 points)"
   ]
  },
  {
   "cell_type": "markdown",
   "metadata": {
    "deletable": false,
    "nbgrader": {
     "cell_type": "markdown",
     "checksum": "67486784047554c39e309206e4cd3156",
     "grade": true,
     "grade_id": "plot_sentiment_over_time_obs",
     "locked": false,
     "points": 0,
     "schema_version": 3,
     "solution": true
    }
   },
   "source": [
    "YOUR ANSWER HERE"
   ]
  }
 ],
 "metadata": {
  "coursera": {
   "schema_names": [
    "mads_social_media_analytics_v2_assignment4"
   ]
  },
  "kernelspec": {
   "display_name": "Python 3 (ipykernel)",
   "language": "python",
   "name": "python3"
  },
  "language_info": {
   "codemirror_mode": {
    "name": "ipython",
    "version": 3
   },
   "file_extension": ".py",
   "mimetype": "text/x-python",
   "name": "python",
   "nbconvert_exporter": "python",
   "pygments_lexer": "ipython3",
   "version": "3.8.10"
  }
 },
 "nbformat": 4,
 "nbformat_minor": 4
}
