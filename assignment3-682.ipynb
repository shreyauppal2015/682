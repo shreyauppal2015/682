{
 "cells": [
  {
   "cell_type": "markdown",
   "metadata": {
    "deletable": false,
    "editable": false,
    "nbgrader": {
     "cell_type": "markdown",
     "checksum": "cf9415515d6618ffef81ab76b3f3723f",
     "grade": false,
     "grade_id": "cell-d1f8fe5e658f6e20",
     "locked": true,
     "schema_version": 3,
     "solution": false
    }
   },
   "source": [
    "# Social Media Analytics\n",
    "## School of Information, University of Michigan\n",
    "\n",
    "## Week 3: Social Media Networks\n",
    " \n",
    "- Network statistics in social media networks\n",
    "\n",
    "## Assignment Overview\n",
    "### The objective of this assignment is to:\n",
    "\n",
    "- Load a network based on user mentions\n",
    "- Plot and analyze network metrics\n",
    "\n",
    "### The total score of this assignment will be 100 points consisting of:\n",
    "\n",
    "- `load_graph` function: 2 points\n",
    "- `basic_graph_attrs` function: 3 points\n",
    "- `plot_degree_distribution`: 10 points\n",
    "- interpretation of degree distributions: 10 points\n",
    "- `top_10_degree_centrality` function: 10 points\n",
    "- `top_10_closeness_centrality` function: 10 points\n",
    "- `top_10_betweenness_centrality` function: 10 points\n",
    "- interpretation of centrality: 15 points\n",
    "- `largest_component_size` function: 10 points\n",
    "- `largest_component_diameter` function: 10 points\n",
    "- `largest_component_avg_sortest_path` function: 10 points\n",
    "\n",
    "### Resources:\n",
    "\n",
    "- [Tweepy API documentation](https://tweepy.readthedocs.io/en/latest/) \n",
    "- [Trump tweet corpus](https://www.thetrumparchive.com/) \n",
    "\n",
    "## Instructions: \n",
    "In this assignment, you will use the provided tweet corpus to plot and analyze network metrics, such as centrality. You will create visualizations and interpret the data. \n",
    "\n",
    "**Note:** A number of the commands will take a long time to process, even on the server resources provided to you. A common and useful strategy is to hardcode once you get the correct answer for the autograder.\n",
    "\n",
    "### Notes on the network:\n",
    "\n",
    "- We created a network based on the Tweets in the account [@realDonaldTrump](https://twitter.com/realDonaldTrump)\n",
    "- Note that the network contains some self-referential edges (i.e., @realDonaldTrump appears in the network). This is due to earlier uses of the RT syntax, or due to quoted RTs including the source account name.\n",
    "- We provide a weighted, undirected network where:\n",
    "    - Each node is the user handle of a Twitter user that was mentioned by @realDonaldTrump (which could be himself)\n",
    "    - A link exists every time two users are mentioned on the same tweet\n",
    "    - The weight between two links is the number of times users are mentioned together\n",
    "- **You can find the script to create the network on assets/create_nw/create_network.py**\n",
    "    - This script uses a pandas dataframe of user_mentions based on the tweets of @realDonaldTrump from 05/2009 to 01/2018\n",
    "    - However, it is not necessary for you to understand this pre-processing script to complete this assignment."
   ]
  },
  {
   "cell_type": "code",
   "execution_count": 1,
   "metadata": {
    "deletable": false,
    "nbgrader": {
     "cell_type": "code",
     "checksum": "7074cb9db7bca973826382973df18304",
     "grade": false,
     "grade_id": "load_graph_statistics",
     "locked": false,
     "schema_version": 3,
     "solution": true
    }
   },
   "outputs": [],
   "source": [
    "import networkx as nx\n",
    "\n",
    "def load_graph():\n",
    "    \"\"\"\n",
    "    2 points \n",
    "    Load the assets/trump__2009_05-2018_01_network_weghted.gpickle file using networkx\n",
    "    \"\"\"\n",
    "    G = nx.read_gpickle(\"assets/trump__2009_05-2018_01_network_weghted.gpickle\")\n",
    "    # YOUR CODE HERE\n",
    "    #raise NotImplementedError()\n",
    "    return G\n",
    "\n",
    "def basic_graph_attrs(G):\n",
    "    \"\"\" \n",
    "    3 points \n",
    "    Return a tuple with the following graph attributes in the same order\n",
    "        - number of nodes\n",
    "        - number of edges\n",
    "        - average degree\n",
    "    \"\"\"\n",
    "    num_nodes = len(G.nodes)\n",
    "    num_edges = len(G.edges)\n",
    "    degrees = G.degree\n",
    "    degs = []\n",
    "    for i in degrees:\n",
    "        degs.append(i[1])\n",
    "        avg_deg = sum(degs)/len(degs)\n",
    "    return (num_nodes, num_edges, avg_deg)\n",
    "\n",
    "    # YOUR CODE HERE\n",
    "    #raise NotImplementedError()"
   ]
  },
  {
   "cell_type": "code",
   "execution_count": 2,
   "metadata": {
    "deletable": false,
    "editable": false,
    "nbgrader": {
     "cell_type": "code",
     "checksum": "6fe8d0e9f1d29701e6bb51432977ff12",
     "grade": true,
     "grade_id": "load_graph_statistics_test",
     "locked": true,
     "points": 5,
     "schema_version": 3,
     "solution": false
    }
   },
   "outputs": [],
   "source": [
    "import networkx as nx\n",
    "\n",
    "G = load_graph()\n",
    "attrs = basic_graph_attrs(G)\n",
    "assert type(G) == nx.classes.graph.Graph, \"load_graph, the type of the graph should be nx.classes.graph.Graph\"\n",
    "nodes = list(G.nodes)\n",
    "for node in ['bretmichaels', 'SnoopDogg', 'IvankaTrump']:\n",
    "    assert node in nodes, f\"node {node} is missing\""
   ]
  },
  {
   "cell_type": "code",
   "execution_count": 3,
   "metadata": {},
   "outputs": [
    {
     "data": {
      "text/plain": [
       "(9508, 16065, 3.3792595708876734)"
      ]
     },
     "execution_count": 3,
     "metadata": {},
     "output_type": "execute_result"
    }
   ],
   "source": [
    "attrs"
   ]
  },
  {
   "cell_type": "markdown",
   "metadata": {
    "deletable": false,
    "editable": false,
    "nbgrader": {
     "cell_type": "markdown",
     "checksum": "028640def9e1c111309d9f8831def92c",
     "grade": false,
     "grade_id": "cell-52c61d61b5d83a31",
     "locked": true,
     "schema_version": 3,
     "solution": false
    }
   },
   "source": [
    "### Visualize the degree distribution for all nodes in the graph and for nodes with degree < 10 \n",
    "<img src=\"assets/sample_plot_1a.png\" alt=\"graphs showing distribution of nodes\" style=\"width: 1000px;\"/>\n"
   ]
  },
  {
   "cell_type": "code",
   "execution_count": 4,
   "metadata": {
    "deletable": false,
    "nbgrader": {
     "cell_type": "code",
     "checksum": "232853eb1fca4160955af7ed09cbd660",
     "grade": true,
     "grade_id": "plot_degree_distribution",
     "locked": false,
     "points": 0,
     "schema_version": 3,
     "solution": true
    }
   },
   "outputs": [
    {
     "data": {
      "image/png": "[encoded data removed]",
      "text/plain": [
       "<Figure size 1080x216 with 2 Axes>"
      ]
     },
     "metadata": {
      "needs_background": "light"
     },
     "output_type": "display_data"
    }
   ],
   "source": [
    "import matplotlib.pyplot as plt\n",
    "import pandas as pd\n",
    "\n",
    "def plot_degree_distribution(G):\n",
    "    \"\"\" \n",
    "    10 points\n",
    "    Plot the degree distribution of G in two different ways.\n",
    "    The left-hand degree distribution should show all nodes.\n",
    "    The right-hand degree distribution should show only nodes with degree < 10.\n",
    "    Both plots should use 12 bins and log scaling.\n",
    "    \"\"\"\n",
    "    # YOUR CODE HERE\n",
    "    fig, ax = plt.subplots(1,2, figsize=(15,3))\n",
    "\n",
    "    ax[1].hist([x for x in dict(G.degree(weight=\"weight\")).values() if x<10], bins=12)\n",
    "    ax[1].set_yscale(\"log\")\n",
    "    ax[1].set_title(\"degree distribution < 10\")\n",
    "    ax[1].set_ylabel(\"Frequency\")\n",
    "\n",
    "    ax[0].hist(dict(G.degree(weight=\"weight\")).values(), bins=12)\n",
    "    ax[0].set_yscale(\"log\")\n",
    "    ax[0].set_title(\"degree distribution\")\n",
    "    ax[0].set_ylabel(\"Frequency\")\n",
    "    #raise NotImplementedError()\n",
    "    \n",
    "G = load_graph()\n",
    "plot_degree_distribution(G)"
   ]
  },
  {
   "cell_type": "markdown",
   "metadata": {
    "deletable": false,
    "editable": false,
    "nbgrader": {
     "cell_type": "markdown",
     "checksum": "07f627cc0c16767872af07295d7ba7b1",
     "grade": false,
     "grade_id": "cell-1b67805886f08741",
     "locked": true,
     "schema_version": 3,
     "solution": false
    }
   },
   "source": [
    "### Please interpret these plots in the cell below. (10 points)"
   ]
  },
  {
   "cell_type": "markdown",
   "metadata": {
    "deletable": false,
    "nbgrader": {
     "cell_type": "markdown",
     "checksum": "386e1aa42afe73e57cd26a0ac61dfbc1",
     "grade": true,
     "grade_id": "plot_degree_distribution_interpretation",
     "locked": false,
     "points": 0,
     "schema_version": 3,
     "solution": true
    }
   },
   "source": [
    "The first degree distribution plot shows nodes of very different degres, whilst the second degree distribution plot shows nodes of more similar degrees. The degree distribution does not really show a large amount of the network structure, and does not really show how the nodes are connected to one another.      "
   ]
  },
  {
   "cell_type": "code",
   "execution_count": 5,
   "metadata": {
    "deletable": false,
    "nbgrader": {
     "cell_type": "code",
     "checksum": "91c57f0f1b6eda05c67647bf144b2c8b",
     "grade": false,
     "grade_id": "centralities",
     "locked": false,
     "schema_version": 3,
     "solution": true
    }
   },
   "outputs": [],
   "source": [
    "import networkx as nx\n",
    "\n",
    "def top_10_degree_centrality(G):\n",
    "    \"\"\" \n",
    "    10 points\n",
    "    Return a list with the top 10 nodes with the highest degee centrality in descending order\n",
    "    Each element of the list should be a tuple of the form (node, centrality)\n",
    "    \"\"\"\n",
    "    return sorted(nx.degree_centrality(G).items(), key=lambda x: (x[1], x[0]), reverse=True)[:10]\n",
    "\n",
    "def top_10_closeness_centrality(G):\n",
    "    \"\"\" \n",
    "    10 points\n",
    "    Return a list with the top 10 nodes with the highest closeness centrality in descending order\n",
    "    Each element of the list should be a tuple of the form (node, centrality)\n",
    "    \"\"\"\n",
    "    return sorted(nx.closeness_centrality(G).items(), key=lambda x: (x[1], x[0]), reverse=True)[:10]\n",
    "\n",
    "def top_10_betweenness_centrality(G):\n",
    "    \"\"\" \n",
    "    10 points\n",
    "    Return a list with the top 10 nodes with the highest betweenness centrality in descending order\n",
    "    Each element of the list should be a tuple of the form (node, centrality)\n",
    "    \"\"\"\n",
    "    return sorted(nx.betweenness_centrality(G).items(), key=lambda x: (x[1], x[0]), reverse=True)[:10]"
   ]
  },
  {
   "cell_type": "code",
   "execution_count": 6,
   "metadata": {
    "deletable": false,
    "editable": false,
    "nbgrader": {
     "cell_type": "code",
     "checksum": "aaad208569453dbf33ef189f97d74875",
     "grade": true,
     "grade_id": "centralities_test",
     "locked": true,
     "points": 30,
     "schema_version": 3,
     "solution": false
    }
   },
   "outputs": [],
   "source": [
    "import networkx as nx\n",
    "import math\n",
    "\n",
    "G = load_graph()\n",
    "top_10_dc = top_10_degree_centrality(G)\n",
    "top_10_cc= top_10_closeness_centrality(G)\n",
    "top_10_bc = top_10_betweenness_centrality(G)\n",
    "\n",
    "assert top_10_dc[0][0] == 'realDonaldTrump', 'top_10_degree_centrality, realDonaldTrump should be the node with highest degree centrality'\n",
    "assert top_10_cc[0][0] == 'realDonaldTrump', 'top_10_closeness_centrality, realDonaldTrump should be the node with highest closeness centrality'\n",
    "assert top_10_bc[0][0] == 'realDonaldTrump', 'top_10_betweenness_centrality, realDonaldTrump should be the node with highest betweenness centrality'\n"
   ]
  },
  {
   "cell_type": "markdown",
   "metadata": {
    "deletable": false,
    "editable": false,
    "nbgrader": {
     "cell_type": "markdown",
     "checksum": "5ff7c4be3e65cac2664d4707f9cbcc22",
     "grade": false,
     "grade_id": "cell-c23baa808847b7a3",
     "locked": true,
     "schema_version": 3,
     "solution": false
    }
   },
   "source": [
    "### Write your interpretation of the different centralities, what does each centrality tell you about the nodes with the highest value? (15 points)"
   ]
  },
  {
   "cell_type": "markdown",
   "metadata": {
    "deletable": false,
    "nbgrader": {
     "cell_type": "markdown",
     "checksum": "00006f4b32a283025cfa5282f1cc61ef",
     "grade": true,
     "grade_id": "centralities_interp",
     "locked": false,
     "points": 0,
     "schema_version": 3,
     "solution": true
    }
   },
   "source": [
    "Each centrality with nodes with the highest value tells me that the more central the node is, the higher the degree is. Degree centrality basically shows how many connections are related to the vertex, kind of like a popularity measure.  "
   ]
  },
  {
   "cell_type": "code",
   "execution_count": 7,
   "metadata": {
    "deletable": false,
    "nbgrader": {
     "cell_type": "code",
     "checksum": "8932fa3053804976a708fcf7c2ca2ef8",
     "grade": false,
     "grade_id": "largest_component",
     "locked": false,
     "schema_version": 3,
     "solution": true
    }
   },
   "outputs": [],
   "source": [
    "import networkx as nx\n",
    "\n",
    "\n",
    "def largest_component_size(G):\n",
    "    \"\"\"\n",
    "    10 points\n",
    "    return the size of the largest connected component in the graph\n",
    "    \"\"\"\n",
    "    largest_cc_size = len(max(nx.connected_components(G), key=len))\n",
    "    return largest_cc_size\n",
    "\n",
    "def largest_component_diameter(G):\n",
    "    \"\"\"\n",
    "    10 points\n",
    "    return the diameter of the largest connected component in the graph\n",
    "    HINT: G.subgraph(component) will return a graph\n",
    "    \"\"\"\n",
    "    component = max(nx.connected_components(G), key=len)\n",
    "    diameter = nx.diameter(G.subgraph(component))\n",
    "    return diameter\n",
    "\n",
    "def largest_component_avg_sortest_path(G):\n",
    "    \"\"\"\n",
    "    10 points\n",
    "    return the average shortest path length of the largest connected component in the graph\n",
    "    HINT: G.subgraph(component) will return a graph\n",
    "    \"\"\"\n",
    "    component = max(nx.connected_components(G), key=len)\n",
    "    avg_shot_path = nx.average_shortest_path_length(G.subgraph(component))\n",
    "    return avg_shot_path"
   ]
  },
  {
   "cell_type": "code",
   "execution_count": 8,
   "metadata": {
    "deletable": false,
    "editable": false,
    "nbgrader": {
     "cell_type": "code",
     "checksum": "d6110b23dee87f1460531be6dc82a171",
     "grade": true,
     "grade_id": "largest_component_tests",
     "locked": true,
     "points": 30,
     "schema_version": 3,
     "solution": false
    }
   },
   "outputs": [],
   "source": [
    "import networkx as nx\n",
    "\n",
    "G = load_graph()\n",
    "lg_size = largest_component_size(G)\n",
    "lg_diam = largest_component_diameter(G)\n",
    "lg_avg_sp = largest_component_avg_sortest_path(G)\n"
   ]
  }
 ],
 "metadata": {
  "coursera": {
   "schema_names": [
    "mads_social_media_analytics_v2_assignment3"
   ]
  },
  "kernelspec": {
   "display_name": "Python 3 (ipykernel)",
   "language": "python",
   "name": "python3"
  },
  "language_info": {
   "codemirror_mode": {
    "name": "ipython",
    "version": 3
   },
   "file_extension": ".py",
   "mimetype": "text/x-python",
   "name": "python",
   "nbconvert_exporter": "python",
   "pygments_lexer": "ipython3",
   "version": "3.8.10"
  }
 },
 "nbformat": 4,
 "nbformat_minor": 4
}
